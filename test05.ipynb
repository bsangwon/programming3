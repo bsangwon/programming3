{
 "cells": [
  {
   "cell_type": "markdown",
   "id": "d2ca821d-67c5-429b-903e-e4b25e639749",
   "metadata": {
    "tags": []
   },
   "source": [
    "# 프로그래밍3 week05 과제\n",
    "### 데이터사이언스학부 201884045 배상원"
   ]
  },
  {
   "cell_type": "markdown",
   "id": "d5a45eb7-7e21-4b51-ac15-bd88b3bdb6ae",
   "metadata": {},
   "source": [
    "## 과제 \n",
    "\n",
    "fueleco 데이터를 사용하여 몇가지 컬럼들에 대해서 자유롭게 그래프를 그려보기(이 상황에서는 이런 그래프를 그릴 수 있구나 확인)\n",
    "\n",
    "다음으로 수치형 컬럼들 중 몇가지를 선택해서 corr에 히트맵을 그려보기"
   ]
  },
  {
   "cell_type": "code",
   "execution_count": 1,
   "id": "3d76fe23-4091-48a3-8a13-e679e7853867",
   "metadata": {},
   "outputs": [],
   "source": [
    "#필요한 import\n",
    "import pandas as pd\n",
    "import numpy as np"
   ]
  },
  {
   "cell_type": "code",
   "execution_count": 2,
   "id": "75c1e1e1-142a-410a-b534-624e4efa89b3",
   "metadata": {},
   "outputs": [
    {
     "name": "stderr",
     "output_type": "stream",
     "text": [
      "C:\\Users\\USER\\anaconda3\\lib\\site-packages\\IPython\\core\\interactiveshell.py:3444: DtypeWarning: Columns (70,71,72,73,74,76,79) have mixed types.Specify dtype option on import or set low_memory=False.\n",
      "  exec(code_obj, self.user_global_ns, self.user_ns)\n"
     ]
    },
    {
     "data": {
      "text/html": [
       "<div>\n",
       "<style scoped>\n",
       "    .dataframe tbody tr th:only-of-type {\n",
       "        vertical-align: middle;\n",
       "    }\n",
       "\n",
       "    .dataframe tbody tr th {\n",
       "        vertical-align: top;\n",
       "    }\n",
       "\n",
       "    .dataframe thead th {\n",
       "        text-align: right;\n",
       "    }\n",
       "</style>\n",
       "<table border=\"1\" class=\"dataframe\">\n",
       "  <thead>\n",
       "    <tr style=\"text-align: right;\">\n",
       "      <th></th>\n",
       "      <th>barrels08</th>\n",
       "      <th>barrelsA08</th>\n",
       "      <th>charge120</th>\n",
       "      <th>charge240</th>\n",
       "      <th>city08</th>\n",
       "      <th>city08U</th>\n",
       "      <th>cityA08</th>\n",
       "      <th>cityA08U</th>\n",
       "      <th>cityCD</th>\n",
       "      <th>cityE</th>\n",
       "      <th>...</th>\n",
       "      <th>mfrCode</th>\n",
       "      <th>c240Dscr</th>\n",
       "      <th>charge240b</th>\n",
       "      <th>c240bDscr</th>\n",
       "      <th>createdOn</th>\n",
       "      <th>modifiedOn</th>\n",
       "      <th>startStop</th>\n",
       "      <th>phevCity</th>\n",
       "      <th>phevHwy</th>\n",
       "      <th>phevComb</th>\n",
       "    </tr>\n",
       "  </thead>\n",
       "  <tbody>\n",
       "    <tr>\n",
       "      <th>0</th>\n",
       "      <td>15.695714</td>\n",
       "      <td>0.0</td>\n",
       "      <td>0.0</td>\n",
       "      <td>0.0</td>\n",
       "      <td>19</td>\n",
       "      <td>0.0</td>\n",
       "      <td>0</td>\n",
       "      <td>0.0</td>\n",
       "      <td>0.0</td>\n",
       "      <td>0.0</td>\n",
       "      <td>...</td>\n",
       "      <td>NaN</td>\n",
       "      <td>NaN</td>\n",
       "      <td>0.0</td>\n",
       "      <td>NaN</td>\n",
       "      <td>Tue Jan 01 00:00:00 EST 2013</td>\n",
       "      <td>Tue Jan 01 00:00:00 EST 2013</td>\n",
       "      <td>NaN</td>\n",
       "      <td>0</td>\n",
       "      <td>0</td>\n",
       "      <td>0</td>\n",
       "    </tr>\n",
       "    <tr>\n",
       "      <th>1</th>\n",
       "      <td>29.964545</td>\n",
       "      <td>0.0</td>\n",
       "      <td>0.0</td>\n",
       "      <td>0.0</td>\n",
       "      <td>9</td>\n",
       "      <td>0.0</td>\n",
       "      <td>0</td>\n",
       "      <td>0.0</td>\n",
       "      <td>0.0</td>\n",
       "      <td>0.0</td>\n",
       "      <td>...</td>\n",
       "      <td>NaN</td>\n",
       "      <td>NaN</td>\n",
       "      <td>0.0</td>\n",
       "      <td>NaN</td>\n",
       "      <td>Tue Jan 01 00:00:00 EST 2013</td>\n",
       "      <td>Tue Jan 01 00:00:00 EST 2013</td>\n",
       "      <td>NaN</td>\n",
       "      <td>0</td>\n",
       "      <td>0</td>\n",
       "      <td>0</td>\n",
       "    </tr>\n",
       "    <tr>\n",
       "      <th>2</th>\n",
       "      <td>12.207778</td>\n",
       "      <td>0.0</td>\n",
       "      <td>0.0</td>\n",
       "      <td>0.0</td>\n",
       "      <td>23</td>\n",
       "      <td>0.0</td>\n",
       "      <td>0</td>\n",
       "      <td>0.0</td>\n",
       "      <td>0.0</td>\n",
       "      <td>0.0</td>\n",
       "      <td>...</td>\n",
       "      <td>NaN</td>\n",
       "      <td>NaN</td>\n",
       "      <td>0.0</td>\n",
       "      <td>NaN</td>\n",
       "      <td>Tue Jan 01 00:00:00 EST 2013</td>\n",
       "      <td>Tue Jan 01 00:00:00 EST 2013</td>\n",
       "      <td>NaN</td>\n",
       "      <td>0</td>\n",
       "      <td>0</td>\n",
       "      <td>0</td>\n",
       "    </tr>\n",
       "    <tr>\n",
       "      <th>3</th>\n",
       "      <td>29.964545</td>\n",
       "      <td>0.0</td>\n",
       "      <td>0.0</td>\n",
       "      <td>0.0</td>\n",
       "      <td>10</td>\n",
       "      <td>0.0</td>\n",
       "      <td>0</td>\n",
       "      <td>0.0</td>\n",
       "      <td>0.0</td>\n",
       "      <td>0.0</td>\n",
       "      <td>...</td>\n",
       "      <td>NaN</td>\n",
       "      <td>NaN</td>\n",
       "      <td>0.0</td>\n",
       "      <td>NaN</td>\n",
       "      <td>Tue Jan 01 00:00:00 EST 2013</td>\n",
       "      <td>Tue Jan 01 00:00:00 EST 2013</td>\n",
       "      <td>NaN</td>\n",
       "      <td>0</td>\n",
       "      <td>0</td>\n",
       "      <td>0</td>\n",
       "    </tr>\n",
       "    <tr>\n",
       "      <th>4</th>\n",
       "      <td>17.347895</td>\n",
       "      <td>0.0</td>\n",
       "      <td>0.0</td>\n",
       "      <td>0.0</td>\n",
       "      <td>17</td>\n",
       "      <td>0.0</td>\n",
       "      <td>0</td>\n",
       "      <td>0.0</td>\n",
       "      <td>0.0</td>\n",
       "      <td>0.0</td>\n",
       "      <td>...</td>\n",
       "      <td>NaN</td>\n",
       "      <td>NaN</td>\n",
       "      <td>0.0</td>\n",
       "      <td>NaN</td>\n",
       "      <td>Tue Jan 01 00:00:00 EST 2013</td>\n",
       "      <td>Tue Jan 01 00:00:00 EST 2013</td>\n",
       "      <td>NaN</td>\n",
       "      <td>0</td>\n",
       "      <td>0</td>\n",
       "      <td>0</td>\n",
       "    </tr>\n",
       "    <tr>\n",
       "      <th>...</th>\n",
       "      <td>...</td>\n",
       "      <td>...</td>\n",
       "      <td>...</td>\n",
       "      <td>...</td>\n",
       "      <td>...</td>\n",
       "      <td>...</td>\n",
       "      <td>...</td>\n",
       "      <td>...</td>\n",
       "      <td>...</td>\n",
       "      <td>...</td>\n",
       "      <td>...</td>\n",
       "      <td>...</td>\n",
       "      <td>...</td>\n",
       "      <td>...</td>\n",
       "      <td>...</td>\n",
       "      <td>...</td>\n",
       "      <td>...</td>\n",
       "      <td>...</td>\n",
       "      <td>...</td>\n",
       "      <td>...</td>\n",
       "      <td>...</td>\n",
       "    </tr>\n",
       "    <tr>\n",
       "      <th>43413</th>\n",
       "      <td>14.982273</td>\n",
       "      <td>0.0</td>\n",
       "      <td>0.0</td>\n",
       "      <td>0.0</td>\n",
       "      <td>19</td>\n",
       "      <td>0.0</td>\n",
       "      <td>0</td>\n",
       "      <td>0.0</td>\n",
       "      <td>0.0</td>\n",
       "      <td>0.0</td>\n",
       "      <td>...</td>\n",
       "      <td>NaN</td>\n",
       "      <td>NaN</td>\n",
       "      <td>0.0</td>\n",
       "      <td>NaN</td>\n",
       "      <td>Tue Jan 01 00:00:00 EST 2013</td>\n",
       "      <td>Tue Jan 01 00:00:00 EST 2013</td>\n",
       "      <td>NaN</td>\n",
       "      <td>0</td>\n",
       "      <td>0</td>\n",
       "      <td>0</td>\n",
       "    </tr>\n",
       "    <tr>\n",
       "      <th>43414</th>\n",
       "      <td>14.330870</td>\n",
       "      <td>0.0</td>\n",
       "      <td>0.0</td>\n",
       "      <td>0.0</td>\n",
       "      <td>20</td>\n",
       "      <td>0.0</td>\n",
       "      <td>0</td>\n",
       "      <td>0.0</td>\n",
       "      <td>0.0</td>\n",
       "      <td>0.0</td>\n",
       "      <td>...</td>\n",
       "      <td>NaN</td>\n",
       "      <td>NaN</td>\n",
       "      <td>0.0</td>\n",
       "      <td>NaN</td>\n",
       "      <td>Tue Jan 01 00:00:00 EST 2013</td>\n",
       "      <td>Tue Jan 01 00:00:00 EST 2013</td>\n",
       "      <td>NaN</td>\n",
       "      <td>0</td>\n",
       "      <td>0</td>\n",
       "      <td>0</td>\n",
       "    </tr>\n",
       "    <tr>\n",
       "      <th>43415</th>\n",
       "      <td>15.695714</td>\n",
       "      <td>0.0</td>\n",
       "      <td>0.0</td>\n",
       "      <td>0.0</td>\n",
       "      <td>18</td>\n",
       "      <td>0.0</td>\n",
       "      <td>0</td>\n",
       "      <td>0.0</td>\n",
       "      <td>0.0</td>\n",
       "      <td>0.0</td>\n",
       "      <td>...</td>\n",
       "      <td>NaN</td>\n",
       "      <td>NaN</td>\n",
       "      <td>0.0</td>\n",
       "      <td>NaN</td>\n",
       "      <td>Tue Jan 01 00:00:00 EST 2013</td>\n",
       "      <td>Tue Jan 01 00:00:00 EST 2013</td>\n",
       "      <td>NaN</td>\n",
       "      <td>0</td>\n",
       "      <td>0</td>\n",
       "      <td>0</td>\n",
       "    </tr>\n",
       "    <tr>\n",
       "      <th>43416</th>\n",
       "      <td>15.695714</td>\n",
       "      <td>0.0</td>\n",
       "      <td>0.0</td>\n",
       "      <td>0.0</td>\n",
       "      <td>18</td>\n",
       "      <td>0.0</td>\n",
       "      <td>0</td>\n",
       "      <td>0.0</td>\n",
       "      <td>0.0</td>\n",
       "      <td>0.0</td>\n",
       "      <td>...</td>\n",
       "      <td>NaN</td>\n",
       "      <td>NaN</td>\n",
       "      <td>0.0</td>\n",
       "      <td>NaN</td>\n",
       "      <td>Tue Jan 01 00:00:00 EST 2013</td>\n",
       "      <td>Tue Jan 01 00:00:00 EST 2013</td>\n",
       "      <td>NaN</td>\n",
       "      <td>0</td>\n",
       "      <td>0</td>\n",
       "      <td>0</td>\n",
       "    </tr>\n",
       "    <tr>\n",
       "      <th>43417</th>\n",
       "      <td>18.311667</td>\n",
       "      <td>0.0</td>\n",
       "      <td>0.0</td>\n",
       "      <td>0.0</td>\n",
       "      <td>16</td>\n",
       "      <td>0.0</td>\n",
       "      <td>0</td>\n",
       "      <td>0.0</td>\n",
       "      <td>0.0</td>\n",
       "      <td>0.0</td>\n",
       "      <td>...</td>\n",
       "      <td>NaN</td>\n",
       "      <td>NaN</td>\n",
       "      <td>0.0</td>\n",
       "      <td>NaN</td>\n",
       "      <td>Tue Jan 01 00:00:00 EST 2013</td>\n",
       "      <td>Tue Jan 01 00:00:00 EST 2013</td>\n",
       "      <td>NaN</td>\n",
       "      <td>0</td>\n",
       "      <td>0</td>\n",
       "      <td>0</td>\n",
       "    </tr>\n",
       "  </tbody>\n",
       "</table>\n",
       "<p>43418 rows × 83 columns</p>\n",
       "</div>"
      ],
      "text/plain": [
       "       barrels08  barrelsA08  charge120  charge240  city08  city08U  cityA08  \\\n",
       "0      15.695714         0.0        0.0        0.0      19      0.0        0   \n",
       "1      29.964545         0.0        0.0        0.0       9      0.0        0   \n",
       "2      12.207778         0.0        0.0        0.0      23      0.0        0   \n",
       "3      29.964545         0.0        0.0        0.0      10      0.0        0   \n",
       "4      17.347895         0.0        0.0        0.0      17      0.0        0   \n",
       "...          ...         ...        ...        ...     ...      ...      ...   \n",
       "43413  14.982273         0.0        0.0        0.0      19      0.0        0   \n",
       "43414  14.330870         0.0        0.0        0.0      20      0.0        0   \n",
       "43415  15.695714         0.0        0.0        0.0      18      0.0        0   \n",
       "43416  15.695714         0.0        0.0        0.0      18      0.0        0   \n",
       "43417  18.311667         0.0        0.0        0.0      16      0.0        0   \n",
       "\n",
       "       cityA08U  cityCD  cityE  ...  mfrCode  c240Dscr  charge240b  c240bDscr  \\\n",
       "0           0.0     0.0    0.0  ...      NaN       NaN         0.0        NaN   \n",
       "1           0.0     0.0    0.0  ...      NaN       NaN         0.0        NaN   \n",
       "2           0.0     0.0    0.0  ...      NaN       NaN         0.0        NaN   \n",
       "3           0.0     0.0    0.0  ...      NaN       NaN         0.0        NaN   \n",
       "4           0.0     0.0    0.0  ...      NaN       NaN         0.0        NaN   \n",
       "...         ...     ...    ...  ...      ...       ...         ...        ...   \n",
       "43413       0.0     0.0    0.0  ...      NaN       NaN         0.0        NaN   \n",
       "43414       0.0     0.0    0.0  ...      NaN       NaN         0.0        NaN   \n",
       "43415       0.0     0.0    0.0  ...      NaN       NaN         0.0        NaN   \n",
       "43416       0.0     0.0    0.0  ...      NaN       NaN         0.0        NaN   \n",
       "43417       0.0     0.0    0.0  ...      NaN       NaN         0.0        NaN   \n",
       "\n",
       "                          createdOn                    modifiedOn  startStop  \\\n",
       "0      Tue Jan 01 00:00:00 EST 2013  Tue Jan 01 00:00:00 EST 2013        NaN   \n",
       "1      Tue Jan 01 00:00:00 EST 2013  Tue Jan 01 00:00:00 EST 2013        NaN   \n",
       "2      Tue Jan 01 00:00:00 EST 2013  Tue Jan 01 00:00:00 EST 2013        NaN   \n",
       "3      Tue Jan 01 00:00:00 EST 2013  Tue Jan 01 00:00:00 EST 2013        NaN   \n",
       "4      Tue Jan 01 00:00:00 EST 2013  Tue Jan 01 00:00:00 EST 2013        NaN   \n",
       "...                             ...                           ...        ...   \n",
       "43413  Tue Jan 01 00:00:00 EST 2013  Tue Jan 01 00:00:00 EST 2013        NaN   \n",
       "43414  Tue Jan 01 00:00:00 EST 2013  Tue Jan 01 00:00:00 EST 2013        NaN   \n",
       "43415  Tue Jan 01 00:00:00 EST 2013  Tue Jan 01 00:00:00 EST 2013        NaN   \n",
       "43416  Tue Jan 01 00:00:00 EST 2013  Tue Jan 01 00:00:00 EST 2013        NaN   \n",
       "43417  Tue Jan 01 00:00:00 EST 2013  Tue Jan 01 00:00:00 EST 2013        NaN   \n",
       "\n",
       "       phevCity  phevHwy  phevComb  \n",
       "0             0        0         0  \n",
       "1             0        0         0  \n",
       "2             0        0         0  \n",
       "3             0        0         0  \n",
       "4             0        0         0  \n",
       "...         ...      ...       ...  \n",
       "43413         0        0         0  \n",
       "43414         0        0         0  \n",
       "43415         0        0         0  \n",
       "43416         0        0         0  \n",
       "43417         0        0         0  \n",
       "\n",
       "[43418 rows x 83 columns]"
      ]
     },
     "execution_count": 2,
     "metadata": {},
     "output_type": "execute_result"
    }
   ],
   "source": [
    "fueleco = pd.read_csv('data/vehicles.csv.zip')\n",
    "fueleco"
   ]
  },
  {
   "cell_type": "code",
   "execution_count": 3,
   "id": "470c550c-c545-4bed-8848-3dfb2856f3d9",
   "metadata": {
    "scrolled": true,
    "tags": []
   },
   "outputs": [
    {
     "data": {
      "text/html": [
       "<div>\n",
       "<style scoped>\n",
       "    .dataframe tbody tr th:only-of-type {\n",
       "        vertical-align: middle;\n",
       "    }\n",
       "\n",
       "    .dataframe tbody tr th {\n",
       "        vertical-align: top;\n",
       "    }\n",
       "\n",
       "    .dataframe thead th {\n",
       "        text-align: right;\n",
       "    }\n",
       "</style>\n",
       "<table border=\"1\" class=\"dataframe\">\n",
       "  <thead>\n",
       "    <tr style=\"text-align: right;\">\n",
       "      <th></th>\n",
       "      <th>count</th>\n",
       "      <th>mean</th>\n",
       "      <th>std</th>\n",
       "      <th>min</th>\n",
       "      <th>25%</th>\n",
       "      <th>50%</th>\n",
       "      <th>75%</th>\n",
       "      <th>max</th>\n",
       "    </tr>\n",
       "  </thead>\n",
       "  <tbody>\n",
       "    <tr>\n",
       "      <th>barrels08</th>\n",
       "      <td>43418.0</td>\n",
       "      <td>17.132865</td>\n",
       "      <td>4.678481</td>\n",
       "      <td>0.06</td>\n",
       "      <td>14.330870</td>\n",
       "      <td>16.48050</td>\n",
       "      <td>19.388824</td>\n",
       "      <td>47.087143</td>\n",
       "    </tr>\n",
       "    <tr>\n",
       "      <th>barrelsA08</th>\n",
       "      <td>43418.0</td>\n",
       "      <td>0.221869</td>\n",
       "      <td>1.142116</td>\n",
       "      <td>0.00</td>\n",
       "      <td>0.000000</td>\n",
       "      <td>0.00000</td>\n",
       "      <td>0.000000</td>\n",
       "      <td>18.311667</td>\n",
       "    </tr>\n",
       "    <tr>\n",
       "      <th>charge120</th>\n",
       "      <td>43418.0</td>\n",
       "      <td>0.000000</td>\n",
       "      <td>0.000000</td>\n",
       "      <td>0.00</td>\n",
       "      <td>0.000000</td>\n",
       "      <td>0.00000</td>\n",
       "      <td>0.000000</td>\n",
       "      <td>0.000000</td>\n",
       "    </tr>\n",
       "    <tr>\n",
       "      <th>charge240</th>\n",
       "      <td>43418.0</td>\n",
       "      <td>0.066276</td>\n",
       "      <td>0.739613</td>\n",
       "      <td>0.00</td>\n",
       "      <td>0.000000</td>\n",
       "      <td>0.00000</td>\n",
       "      <td>0.000000</td>\n",
       "      <td>15.300000</td>\n",
       "    </tr>\n",
       "    <tr>\n",
       "      <th>city08</th>\n",
       "      <td>43418.0</td>\n",
       "      <td>18.654521</td>\n",
       "      <td>8.750168</td>\n",
       "      <td>6.00</td>\n",
       "      <td>15.000000</td>\n",
       "      <td>17.00000</td>\n",
       "      <td>21.000000</td>\n",
       "      <td>150.000000</td>\n",
       "    </tr>\n",
       "    <tr>\n",
       "      <th>city08U</th>\n",
       "      <td>43418.0</td>\n",
       "      <td>6.916080</td>\n",
       "      <td>12.657711</td>\n",
       "      <td>0.00</td>\n",
       "      <td>0.000000</td>\n",
       "      <td>0.00000</td>\n",
       "      <td>15.877425</td>\n",
       "      <td>150.195800</td>\n",
       "    </tr>\n",
       "    <tr>\n",
       "      <th>cityA08</th>\n",
       "      <td>43418.0</td>\n",
       "      <td>0.780805</td>\n",
       "      <td>6.050073</td>\n",
       "      <td>0.00</td>\n",
       "      <td>0.000000</td>\n",
       "      <td>0.00000</td>\n",
       "      <td>0.000000</td>\n",
       "      <td>145.000000</td>\n",
       "    </tr>\n",
       "    <tr>\n",
       "      <th>cityA08U</th>\n",
       "      <td>43418.0</td>\n",
       "      <td>0.643413</td>\n",
       "      <td>5.939123</td>\n",
       "      <td>0.00</td>\n",
       "      <td>0.000000</td>\n",
       "      <td>0.00000</td>\n",
       "      <td>0.000000</td>\n",
       "      <td>145.083500</td>\n",
       "    </tr>\n",
       "    <tr>\n",
       "      <th>cityCD</th>\n",
       "      <td>43418.0</td>\n",
       "      <td>0.000497</td>\n",
       "      <td>0.038230</td>\n",
       "      <td>0.00</td>\n",
       "      <td>0.000000</td>\n",
       "      <td>0.00000</td>\n",
       "      <td>0.000000</td>\n",
       "      <td>5.350000</td>\n",
       "    </tr>\n",
       "    <tr>\n",
       "      <th>cityE</th>\n",
       "      <td>43418.0</td>\n",
       "      <td>0.471792</td>\n",
       "      <td>4.683147</td>\n",
       "      <td>0.00</td>\n",
       "      <td>0.000000</td>\n",
       "      <td>0.00000</td>\n",
       "      <td>0.000000</td>\n",
       "      <td>122.000000</td>\n",
       "    </tr>\n",
       "    <tr>\n",
       "      <th>cityUF</th>\n",
       "      <td>43418.0</td>\n",
       "      <td>0.002569</td>\n",
       "      <td>0.037443</td>\n",
       "      <td>0.00</td>\n",
       "      <td>0.000000</td>\n",
       "      <td>0.00000</td>\n",
       "      <td>0.000000</td>\n",
       "      <td>0.927000</td>\n",
       "    </tr>\n",
       "    <tr>\n",
       "      <th>co2</th>\n",
       "      <td>43418.0</td>\n",
       "      <td>103.802639</td>\n",
       "      <td>185.336192</td>\n",
       "      <td>-1.00</td>\n",
       "      <td>-1.000000</td>\n",
       "      <td>-1.00000</td>\n",
       "      <td>228.000000</td>\n",
       "      <td>893.000000</td>\n",
       "    </tr>\n",
       "    <tr>\n",
       "      <th>co2A</th>\n",
       "      <td>43418.0</td>\n",
       "      <td>5.910291</td>\n",
       "      <td>57.330146</td>\n",
       "      <td>-1.00</td>\n",
       "      <td>-1.000000</td>\n",
       "      <td>-1.00000</td>\n",
       "      <td>-1.000000</td>\n",
       "      <td>713.000000</td>\n",
       "    </tr>\n",
       "    <tr>\n",
       "      <th>co2TailpipeAGpm</th>\n",
       "      <td>43418.0</td>\n",
       "      <td>17.214588</td>\n",
       "      <td>92.550379</td>\n",
       "      <td>0.00</td>\n",
       "      <td>0.000000</td>\n",
       "      <td>0.00000</td>\n",
       "      <td>0.000000</td>\n",
       "      <td>713.000000</td>\n",
       "    </tr>\n",
       "    <tr>\n",
       "      <th>co2TailpipeGpm</th>\n",
       "      <td>43418.0</td>\n",
       "      <td>462.204800</td>\n",
       "      <td>125.207127</td>\n",
       "      <td>0.00</td>\n",
       "      <td>386.391304</td>\n",
       "      <td>444.35000</td>\n",
       "      <td>522.764706</td>\n",
       "      <td>1269.571429</td>\n",
       "    </tr>\n",
       "    <tr>\n",
       "      <th>comb08</th>\n",
       "      <td>43418.0</td>\n",
       "      <td>20.894997</td>\n",
       "      <td>8.401355</td>\n",
       "      <td>7.00</td>\n",
       "      <td>17.000000</td>\n",
       "      <td>20.00000</td>\n",
       "      <td>23.000000</td>\n",
       "      <td>142.000000</td>\n",
       "    </tr>\n",
       "    <tr>\n",
       "      <th>comb08U</th>\n",
       "      <td>43418.0</td>\n",
       "      <td>7.685601</td>\n",
       "      <td>13.263997</td>\n",
       "      <td>0.00</td>\n",
       "      <td>0.000000</td>\n",
       "      <td>0.00000</td>\n",
       "      <td>18.305775</td>\n",
       "      <td>141.951200</td>\n",
       "    </tr>\n",
       "    <tr>\n",
       "      <th>combA08</th>\n",
       "      <td>43418.0</td>\n",
       "      <td>0.836888</td>\n",
       "      <td>6.034436</td>\n",
       "      <td>0.00</td>\n",
       "      <td>0.000000</td>\n",
       "      <td>0.00000</td>\n",
       "      <td>0.000000</td>\n",
       "      <td>133.000000</td>\n",
       "    </tr>\n",
       "    <tr>\n",
       "      <th>combA08U</th>\n",
       "      <td>43418.0</td>\n",
       "      <td>0.678080</td>\n",
       "      <td>5.881499</td>\n",
       "      <td>0.00</td>\n",
       "      <td>0.000000</td>\n",
       "      <td>0.00000</td>\n",
       "      <td>0.000000</td>\n",
       "      <td>133.266200</td>\n",
       "    </tr>\n",
       "    <tr>\n",
       "      <th>combE</th>\n",
       "      <td>43418.0</td>\n",
       "      <td>0.479632</td>\n",
       "      <td>4.710999</td>\n",
       "      <td>0.00</td>\n",
       "      <td>0.000000</td>\n",
       "      <td>0.00000</td>\n",
       "      <td>0.000000</td>\n",
       "      <td>121.000000</td>\n",
       "    </tr>\n",
       "    <tr>\n",
       "      <th>combinedCD</th>\n",
       "      <td>43418.0</td>\n",
       "      <td>0.005301</td>\n",
       "      <td>0.461395</td>\n",
       "      <td>0.00</td>\n",
       "      <td>0.000000</td>\n",
       "      <td>0.00000</td>\n",
       "      <td>0.000000</td>\n",
       "      <td>45.000000</td>\n",
       "    </tr>\n",
       "    <tr>\n",
       "      <th>combinedUF</th>\n",
       "      <td>43418.0</td>\n",
       "      <td>0.002543</td>\n",
       "      <td>0.037024</td>\n",
       "      <td>0.00</td>\n",
       "      <td>0.000000</td>\n",
       "      <td>0.00000</td>\n",
       "      <td>0.000000</td>\n",
       "      <td>0.920000</td>\n",
       "    </tr>\n",
       "    <tr>\n",
       "      <th>cylinders</th>\n",
       "      <td>43139.0</td>\n",
       "      <td>5.710865</td>\n",
       "      <td>1.764527</td>\n",
       "      <td>2.00</td>\n",
       "      <td>4.000000</td>\n",
       "      <td>6.00000</td>\n",
       "      <td>6.000000</td>\n",
       "      <td>16.000000</td>\n",
       "    </tr>\n",
       "    <tr>\n",
       "      <th>displ</th>\n",
       "      <td>43141.0</td>\n",
       "      <td>3.284699</td>\n",
       "      <td>1.356668</td>\n",
       "      <td>0.00</td>\n",
       "      <td>2.200000</td>\n",
       "      <td>3.00000</td>\n",
       "      <td>4.300000</td>\n",
       "      <td>8.400000</td>\n",
       "    </tr>\n",
       "    <tr>\n",
       "      <th>engId</th>\n",
       "      <td>43418.0</td>\n",
       "      <td>7752.441913</td>\n",
       "      <td>16894.286167</td>\n",
       "      <td>0.00</td>\n",
       "      <td>0.000000</td>\n",
       "      <td>164.00000</td>\n",
       "      <td>4122.000000</td>\n",
       "      <td>69102.000000</td>\n",
       "    </tr>\n",
       "    <tr>\n",
       "      <th>feScore</th>\n",
       "      <td>43418.0</td>\n",
       "      <td>0.592197</td>\n",
       "      <td>2.843539</td>\n",
       "      <td>-1.00</td>\n",
       "      <td>-1.000000</td>\n",
       "      <td>-1.00000</td>\n",
       "      <td>2.000000</td>\n",
       "      <td>10.000000</td>\n",
       "    </tr>\n",
       "    <tr>\n",
       "      <th>fuelCost08</th>\n",
       "      <td>43418.0</td>\n",
       "      <td>2400.533189</td>\n",
       "      <td>671.690218</td>\n",
       "      <td>450.00</td>\n",
       "      <td>1950.000000</td>\n",
       "      <td>2400.00000</td>\n",
       "      <td>2800.000000</td>\n",
       "      <td>7550.000000</td>\n",
       "    </tr>\n",
       "    <tr>\n",
       "      <th>fuelCostA08</th>\n",
       "      <td>43418.0</td>\n",
       "      <td>83.403197</td>\n",
       "      <td>442.658866</td>\n",
       "      <td>0.00</td>\n",
       "      <td>0.000000</td>\n",
       "      <td>0.00000</td>\n",
       "      <td>0.000000</td>\n",
       "      <td>3750.000000</td>\n",
       "    </tr>\n",
       "    <tr>\n",
       "      <th>ghgScore</th>\n",
       "      <td>43418.0</td>\n",
       "      <td>0.592588</td>\n",
       "      <td>2.847598</td>\n",
       "      <td>-1.00</td>\n",
       "      <td>-1.000000</td>\n",
       "      <td>-1.00000</td>\n",
       "      <td>2.000000</td>\n",
       "      <td>10.000000</td>\n",
       "    </tr>\n",
       "    <tr>\n",
       "      <th>ghgScoreA</th>\n",
       "      <td>43418.0</td>\n",
       "      <td>-0.921346</td>\n",
       "      <td>0.654744</td>\n",
       "      <td>-1.00</td>\n",
       "      <td>-1.000000</td>\n",
       "      <td>-1.00000</td>\n",
       "      <td>-1.000000</td>\n",
       "      <td>8.000000</td>\n",
       "    </tr>\n",
       "    <tr>\n",
       "      <th>highway08</th>\n",
       "      <td>43418.0</td>\n",
       "      <td>24.770556</td>\n",
       "      <td>8.283938</td>\n",
       "      <td>9.00</td>\n",
       "      <td>20.000000</td>\n",
       "      <td>24.00000</td>\n",
       "      <td>28.000000</td>\n",
       "      <td>133.000000</td>\n",
       "    </tr>\n",
       "    <tr>\n",
       "      <th>highway08U</th>\n",
       "      <td>43418.0</td>\n",
       "      <td>9.017856</td>\n",
       "      <td>14.690882</td>\n",
       "      <td>0.00</td>\n",
       "      <td>0.000000</td>\n",
       "      <td>0.00000</td>\n",
       "      <td>22.388650</td>\n",
       "      <td>133.026300</td>\n",
       "    </tr>\n",
       "    <tr>\n",
       "      <th>highwayA08</th>\n",
       "      <td>43418.0</td>\n",
       "      <td>0.936708</td>\n",
       "      <td>6.186028</td>\n",
       "      <td>0.00</td>\n",
       "      <td>0.000000</td>\n",
       "      <td>0.00000</td>\n",
       "      <td>0.000000</td>\n",
       "      <td>121.000000</td>\n",
       "    </tr>\n",
       "    <tr>\n",
       "      <th>highwayA08U</th>\n",
       "      <td>43418.0</td>\n",
       "      <td>0.745880</td>\n",
       "      <td>5.968410</td>\n",
       "      <td>0.00</td>\n",
       "      <td>0.000000</td>\n",
       "      <td>0.00000</td>\n",
       "      <td>0.000000</td>\n",
       "      <td>121.200500</td>\n",
       "    </tr>\n",
       "    <tr>\n",
       "      <th>highwayCD</th>\n",
       "      <td>43418.0</td>\n",
       "      <td>0.000254</td>\n",
       "      <td>0.027703</td>\n",
       "      <td>0.00</td>\n",
       "      <td>0.000000</td>\n",
       "      <td>0.00000</td>\n",
       "      <td>0.000000</td>\n",
       "      <td>4.060000</td>\n",
       "    </tr>\n",
       "    <tr>\n",
       "      <th>highwayE</th>\n",
       "      <td>43418.0</td>\n",
       "      <td>0.489570</td>\n",
       "      <td>4.765790</td>\n",
       "      <td>0.00</td>\n",
       "      <td>0.000000</td>\n",
       "      <td>0.00000</td>\n",
       "      <td>0.000000</td>\n",
       "      <td>120.000000</td>\n",
       "    </tr>\n",
       "    <tr>\n",
       "      <th>highwayUF</th>\n",
       "      <td>43418.0</td>\n",
       "      <td>0.002509</td>\n",
       "      <td>0.036492</td>\n",
       "      <td>0.00</td>\n",
       "      <td>0.000000</td>\n",
       "      <td>0.00000</td>\n",
       "      <td>0.000000</td>\n",
       "      <td>0.910000</td>\n",
       "    </tr>\n",
       "    <tr>\n",
       "      <th>hlv</th>\n",
       "      <td>43418.0</td>\n",
       "      <td>1.979732</td>\n",
       "      <td>5.912546</td>\n",
       "      <td>0.00</td>\n",
       "      <td>0.000000</td>\n",
       "      <td>0.00000</td>\n",
       "      <td>0.000000</td>\n",
       "      <td>49.000000</td>\n",
       "    </tr>\n",
       "    <tr>\n",
       "      <th>hpv</th>\n",
       "      <td>43418.0</td>\n",
       "      <td>10.095329</td>\n",
       "      <td>27.853542</td>\n",
       "      <td>0.00</td>\n",
       "      <td>0.000000</td>\n",
       "      <td>0.00000</td>\n",
       "      <td>0.000000</td>\n",
       "      <td>195.000000</td>\n",
       "    </tr>\n",
       "    <tr>\n",
       "      <th>id</th>\n",
       "      <td>43418.0</td>\n",
       "      <td>21847.215579</td>\n",
       "      <td>12676.718530</td>\n",
       "      <td>1.00</td>\n",
       "      <td>10855.250000</td>\n",
       "      <td>21713.50000</td>\n",
       "      <td>32862.750000</td>\n",
       "      <td>43821.000000</td>\n",
       "    </tr>\n",
       "    <tr>\n",
       "      <th>lv2</th>\n",
       "      <td>43418.0</td>\n",
       "      <td>1.782602</td>\n",
       "      <td>4.331941</td>\n",
       "      <td>0.00</td>\n",
       "      <td>0.000000</td>\n",
       "      <td>0.00000</td>\n",
       "      <td>0.000000</td>\n",
       "      <td>41.000000</td>\n",
       "    </tr>\n",
       "    <tr>\n",
       "      <th>lv4</th>\n",
       "      <td>43418.0</td>\n",
       "      <td>6.039868</td>\n",
       "      <td>9.566007</td>\n",
       "      <td>0.00</td>\n",
       "      <td>0.000000</td>\n",
       "      <td>0.00000</td>\n",
       "      <td>13.000000</td>\n",
       "      <td>55.000000</td>\n",
       "    </tr>\n",
       "    <tr>\n",
       "      <th>pv2</th>\n",
       "      <td>43418.0</td>\n",
       "      <td>13.395642</td>\n",
       "      <td>30.946350</td>\n",
       "      <td>0.00</td>\n",
       "      <td>0.000000</td>\n",
       "      <td>0.00000</td>\n",
       "      <td>0.000000</td>\n",
       "      <td>194.000000</td>\n",
       "    </tr>\n",
       "    <tr>\n",
       "      <th>pv4</th>\n",
       "      <td>43418.0</td>\n",
       "      <td>33.535884</td>\n",
       "      <td>45.993292</td>\n",
       "      <td>0.00</td>\n",
       "      <td>0.000000</td>\n",
       "      <td>0.00000</td>\n",
       "      <td>91.000000</td>\n",
       "      <td>192.000000</td>\n",
       "    </tr>\n",
       "    <tr>\n",
       "      <th>range</th>\n",
       "      <td>43418.0</td>\n",
       "      <td>1.184278</td>\n",
       "      <td>16.726704</td>\n",
       "      <td>0.00</td>\n",
       "      <td>0.000000</td>\n",
       "      <td>0.00000</td>\n",
       "      <td>0.000000</td>\n",
       "      <td>402.000000</td>\n",
       "    </tr>\n",
       "    <tr>\n",
       "      <th>rangeCity</th>\n",
       "      <td>43418.0</td>\n",
       "      <td>1.167129</td>\n",
       "      <td>16.949169</td>\n",
       "      <td>0.00</td>\n",
       "      <td>0.000000</td>\n",
       "      <td>0.00000</td>\n",
       "      <td>0.000000</td>\n",
       "      <td>416.200000</td>\n",
       "    </tr>\n",
       "    <tr>\n",
       "      <th>rangeCityA</th>\n",
       "      <td>43418.0</td>\n",
       "      <td>0.143378</td>\n",
       "      <td>2.626857</td>\n",
       "      <td>0.00</td>\n",
       "      <td>0.000000</td>\n",
       "      <td>0.00000</td>\n",
       "      <td>0.000000</td>\n",
       "      <td>135.280000</td>\n",
       "    </tr>\n",
       "    <tr>\n",
       "      <th>rangeHwy</th>\n",
       "      <td>43418.0</td>\n",
       "      <td>1.100554</td>\n",
       "      <td>16.216581</td>\n",
       "      <td>0.00</td>\n",
       "      <td>0.000000</td>\n",
       "      <td>0.00000</td>\n",
       "      <td>0.000000</td>\n",
       "      <td>383.800000</td>\n",
       "    </tr>\n",
       "    <tr>\n",
       "      <th>rangeHwyA</th>\n",
       "      <td>43418.0</td>\n",
       "      <td>0.133410</td>\n",
       "      <td>2.353276</td>\n",
       "      <td>0.00</td>\n",
       "      <td>0.000000</td>\n",
       "      <td>0.00000</td>\n",
       "      <td>0.000000</td>\n",
       "      <td>114.760000</td>\n",
       "    </tr>\n",
       "    <tr>\n",
       "      <th>UCity</th>\n",
       "      <td>43418.0</td>\n",
       "      <td>23.613608</td>\n",
       "      <td>12.441254</td>\n",
       "      <td>0.00</td>\n",
       "      <td>18.400000</td>\n",
       "      <td>21.63995</td>\n",
       "      <td>26.000000</td>\n",
       "      <td>224.800000</td>\n",
       "    </tr>\n",
       "    <tr>\n",
       "      <th>UCityA</th>\n",
       "      <td>43418.0</td>\n",
       "      <td>1.028003</td>\n",
       "      <td>8.528132</td>\n",
       "      <td>0.00</td>\n",
       "      <td>0.000000</td>\n",
       "      <td>0.00000</td>\n",
       "      <td>0.000000</td>\n",
       "      <td>207.262200</td>\n",
       "    </tr>\n",
       "    <tr>\n",
       "      <th>UHighway</th>\n",
       "      <td>43418.0</td>\n",
       "      <td>34.274373</td>\n",
       "      <td>12.460440</td>\n",
       "      <td>0.00</td>\n",
       "      <td>27.751750</td>\n",
       "      <td>33.30000</td>\n",
       "      <td>39.095825</td>\n",
       "      <td>187.100000</td>\n",
       "    </tr>\n",
       "    <tr>\n",
       "      <th>UHighwayA</th>\n",
       "      <td>43418.0</td>\n",
       "      <td>1.270942</td>\n",
       "      <td>8.681490</td>\n",
       "      <td>0.00</td>\n",
       "      <td>0.000000</td>\n",
       "      <td>0.00000</td>\n",
       "      <td>0.000000</td>\n",
       "      <td>173.143600</td>\n",
       "    </tr>\n",
       "    <tr>\n",
       "      <th>year</th>\n",
       "      <td>43418.0</td>\n",
       "      <td>2002.536022</td>\n",
       "      <td>11.650912</td>\n",
       "      <td>1984.00</td>\n",
       "      <td>1992.000000</td>\n",
       "      <td>2003.00000</td>\n",
       "      <td>2013.000000</td>\n",
       "      <td>2022.000000</td>\n",
       "    </tr>\n",
       "    <tr>\n",
       "      <th>youSaveSpend</th>\n",
       "      <td>43418.0</td>\n",
       "      <td>-3992.174904</td>\n",
       "      <td>3369.439953</td>\n",
       "      <td>-29750.00</td>\n",
       "      <td>-6000.000000</td>\n",
       "      <td>-4000.00000</td>\n",
       "      <td>-1750.000000</td>\n",
       "      <td>5750.000000</td>\n",
       "    </tr>\n",
       "    <tr>\n",
       "      <th>charge240b</th>\n",
       "      <td>43418.0</td>\n",
       "      <td>0.014105</td>\n",
       "      <td>0.301393</td>\n",
       "      <td>0.00</td>\n",
       "      <td>0.000000</td>\n",
       "      <td>0.00000</td>\n",
       "      <td>0.000000</td>\n",
       "      <td>9.600000</td>\n",
       "    </tr>\n",
       "    <tr>\n",
       "      <th>phevCity</th>\n",
       "      <td>43418.0</td>\n",
       "      <td>0.229836</td>\n",
       "      <td>3.526150</td>\n",
       "      <td>0.00</td>\n",
       "      <td>0.000000</td>\n",
       "      <td>0.00000</td>\n",
       "      <td>0.000000</td>\n",
       "      <td>97.000000</td>\n",
       "    </tr>\n",
       "    <tr>\n",
       "      <th>phevHwy</th>\n",
       "      <td>43418.0</td>\n",
       "      <td>0.231563</td>\n",
       "      <td>3.405325</td>\n",
       "      <td>0.00</td>\n",
       "      <td>0.000000</td>\n",
       "      <td>0.00000</td>\n",
       "      <td>0.000000</td>\n",
       "      <td>81.000000</td>\n",
       "    </tr>\n",
       "    <tr>\n",
       "      <th>phevComb</th>\n",
       "      <td>43418.0</td>\n",
       "      <td>0.229628</td>\n",
       "      <td>3.449732</td>\n",
       "      <td>0.00</td>\n",
       "      <td>0.000000</td>\n",
       "      <td>0.00000</td>\n",
       "      <td>0.000000</td>\n",
       "      <td>88.000000</td>\n",
       "    </tr>\n",
       "  </tbody>\n",
       "</table>\n",
       "</div>"
      ],
      "text/plain": [
       "                   count          mean           std       min           25%  \\\n",
       "barrels08        43418.0     17.132865      4.678481      0.06     14.330870   \n",
       "barrelsA08       43418.0      0.221869      1.142116      0.00      0.000000   \n",
       "charge120        43418.0      0.000000      0.000000      0.00      0.000000   \n",
       "charge240        43418.0      0.066276      0.739613      0.00      0.000000   \n",
       "city08           43418.0     18.654521      8.750168      6.00     15.000000   \n",
       "city08U          43418.0      6.916080     12.657711      0.00      0.000000   \n",
       "cityA08          43418.0      0.780805      6.050073      0.00      0.000000   \n",
       "cityA08U         43418.0      0.643413      5.939123      0.00      0.000000   \n",
       "cityCD           43418.0      0.000497      0.038230      0.00      0.000000   \n",
       "cityE            43418.0      0.471792      4.683147      0.00      0.000000   \n",
       "cityUF           43418.0      0.002569      0.037443      0.00      0.000000   \n",
       "co2              43418.0    103.802639    185.336192     -1.00     -1.000000   \n",
       "co2A             43418.0      5.910291     57.330146     -1.00     -1.000000   \n",
       "co2TailpipeAGpm  43418.0     17.214588     92.550379      0.00      0.000000   \n",
       "co2TailpipeGpm   43418.0    462.204800    125.207127      0.00    386.391304   \n",
       "comb08           43418.0     20.894997      8.401355      7.00     17.000000   \n",
       "comb08U          43418.0      7.685601     13.263997      0.00      0.000000   \n",
       "combA08          43418.0      0.836888      6.034436      0.00      0.000000   \n",
       "combA08U         43418.0      0.678080      5.881499      0.00      0.000000   \n",
       "combE            43418.0      0.479632      4.710999      0.00      0.000000   \n",
       "combinedCD       43418.0      0.005301      0.461395      0.00      0.000000   \n",
       "combinedUF       43418.0      0.002543      0.037024      0.00      0.000000   \n",
       "cylinders        43139.0      5.710865      1.764527      2.00      4.000000   \n",
       "displ            43141.0      3.284699      1.356668      0.00      2.200000   \n",
       "engId            43418.0   7752.441913  16894.286167      0.00      0.000000   \n",
       "feScore          43418.0      0.592197      2.843539     -1.00     -1.000000   \n",
       "fuelCost08       43418.0   2400.533189    671.690218    450.00   1950.000000   \n",
       "fuelCostA08      43418.0     83.403197    442.658866      0.00      0.000000   \n",
       "ghgScore         43418.0      0.592588      2.847598     -1.00     -1.000000   \n",
       "ghgScoreA        43418.0     -0.921346      0.654744     -1.00     -1.000000   \n",
       "highway08        43418.0     24.770556      8.283938      9.00     20.000000   \n",
       "highway08U       43418.0      9.017856     14.690882      0.00      0.000000   \n",
       "highwayA08       43418.0      0.936708      6.186028      0.00      0.000000   \n",
       "highwayA08U      43418.0      0.745880      5.968410      0.00      0.000000   \n",
       "highwayCD        43418.0      0.000254      0.027703      0.00      0.000000   \n",
       "highwayE         43418.0      0.489570      4.765790      0.00      0.000000   \n",
       "highwayUF        43418.0      0.002509      0.036492      0.00      0.000000   \n",
       "hlv              43418.0      1.979732      5.912546      0.00      0.000000   \n",
       "hpv              43418.0     10.095329     27.853542      0.00      0.000000   \n",
       "id               43418.0  21847.215579  12676.718530      1.00  10855.250000   \n",
       "lv2              43418.0      1.782602      4.331941      0.00      0.000000   \n",
       "lv4              43418.0      6.039868      9.566007      0.00      0.000000   \n",
       "pv2              43418.0     13.395642     30.946350      0.00      0.000000   \n",
       "pv4              43418.0     33.535884     45.993292      0.00      0.000000   \n",
       "range            43418.0      1.184278     16.726704      0.00      0.000000   \n",
       "rangeCity        43418.0      1.167129     16.949169      0.00      0.000000   \n",
       "rangeCityA       43418.0      0.143378      2.626857      0.00      0.000000   \n",
       "rangeHwy         43418.0      1.100554     16.216581      0.00      0.000000   \n",
       "rangeHwyA        43418.0      0.133410      2.353276      0.00      0.000000   \n",
       "UCity            43418.0     23.613608     12.441254      0.00     18.400000   \n",
       "UCityA           43418.0      1.028003      8.528132      0.00      0.000000   \n",
       "UHighway         43418.0     34.274373     12.460440      0.00     27.751750   \n",
       "UHighwayA        43418.0      1.270942      8.681490      0.00      0.000000   \n",
       "year             43418.0   2002.536022     11.650912   1984.00   1992.000000   \n",
       "youSaveSpend     43418.0  -3992.174904   3369.439953 -29750.00  -6000.000000   \n",
       "charge240b       43418.0      0.014105      0.301393      0.00      0.000000   \n",
       "phevCity         43418.0      0.229836      3.526150      0.00      0.000000   \n",
       "phevHwy          43418.0      0.231563      3.405325      0.00      0.000000   \n",
       "phevComb         43418.0      0.229628      3.449732      0.00      0.000000   \n",
       "\n",
       "                         50%           75%           max  \n",
       "barrels08           16.48050     19.388824     47.087143  \n",
       "barrelsA08           0.00000      0.000000     18.311667  \n",
       "charge120            0.00000      0.000000      0.000000  \n",
       "charge240            0.00000      0.000000     15.300000  \n",
       "city08              17.00000     21.000000    150.000000  \n",
       "city08U              0.00000     15.877425    150.195800  \n",
       "cityA08              0.00000      0.000000    145.000000  \n",
       "cityA08U             0.00000      0.000000    145.083500  \n",
       "cityCD               0.00000      0.000000      5.350000  \n",
       "cityE                0.00000      0.000000    122.000000  \n",
       "cityUF               0.00000      0.000000      0.927000  \n",
       "co2                 -1.00000    228.000000    893.000000  \n",
       "co2A                -1.00000     -1.000000    713.000000  \n",
       "co2TailpipeAGpm      0.00000      0.000000    713.000000  \n",
       "co2TailpipeGpm     444.35000    522.764706   1269.571429  \n",
       "comb08              20.00000     23.000000    142.000000  \n",
       "comb08U              0.00000     18.305775    141.951200  \n",
       "combA08              0.00000      0.000000    133.000000  \n",
       "combA08U             0.00000      0.000000    133.266200  \n",
       "combE                0.00000      0.000000    121.000000  \n",
       "combinedCD           0.00000      0.000000     45.000000  \n",
       "combinedUF           0.00000      0.000000      0.920000  \n",
       "cylinders            6.00000      6.000000     16.000000  \n",
       "displ                3.00000      4.300000      8.400000  \n",
       "engId              164.00000   4122.000000  69102.000000  \n",
       "feScore             -1.00000      2.000000     10.000000  \n",
       "fuelCost08        2400.00000   2800.000000   7550.000000  \n",
       "fuelCostA08          0.00000      0.000000   3750.000000  \n",
       "ghgScore            -1.00000      2.000000     10.000000  \n",
       "ghgScoreA           -1.00000     -1.000000      8.000000  \n",
       "highway08           24.00000     28.000000    133.000000  \n",
       "highway08U           0.00000     22.388650    133.026300  \n",
       "highwayA08           0.00000      0.000000    121.000000  \n",
       "highwayA08U          0.00000      0.000000    121.200500  \n",
       "highwayCD            0.00000      0.000000      4.060000  \n",
       "highwayE             0.00000      0.000000    120.000000  \n",
       "highwayUF            0.00000      0.000000      0.910000  \n",
       "hlv                  0.00000      0.000000     49.000000  \n",
       "hpv                  0.00000      0.000000    195.000000  \n",
       "id               21713.50000  32862.750000  43821.000000  \n",
       "lv2                  0.00000      0.000000     41.000000  \n",
       "lv4                  0.00000     13.000000     55.000000  \n",
       "pv2                  0.00000      0.000000    194.000000  \n",
       "pv4                  0.00000     91.000000    192.000000  \n",
       "range                0.00000      0.000000    402.000000  \n",
       "rangeCity            0.00000      0.000000    416.200000  \n",
       "rangeCityA           0.00000      0.000000    135.280000  \n",
       "rangeHwy             0.00000      0.000000    383.800000  \n",
       "rangeHwyA            0.00000      0.000000    114.760000  \n",
       "UCity               21.63995     26.000000    224.800000  \n",
       "UCityA               0.00000      0.000000    207.262200  \n",
       "UHighway            33.30000     39.095825    187.100000  \n",
       "UHighwayA            0.00000      0.000000    173.143600  \n",
       "year              2003.00000   2013.000000   2022.000000  \n",
       "youSaveSpend     -4000.00000  -1750.000000   5750.000000  \n",
       "charge240b           0.00000      0.000000      9.600000  \n",
       "phevCity             0.00000      0.000000     97.000000  \n",
       "phevHwy              0.00000      0.000000     81.000000  \n",
       "phevComb             0.00000      0.000000     88.000000  "
      ]
     },
     "execution_count": 3,
     "metadata": {},
     "output_type": "execute_result"
    }
   ],
   "source": [
    "fueleco.describe().T"
   ]
  },
  {
   "cell_type": "code",
   "execution_count": 4,
   "id": "fed9a2f6-95f1-4626-b2c2-a023fa83d736",
   "metadata": {
    "scrolled": true,
    "tags": []
   },
   "outputs": [
    {
     "data": {
      "text/html": [
       "<div>\n",
       "<style scoped>\n",
       "    .dataframe tbody tr th:only-of-type {\n",
       "        vertical-align: middle;\n",
       "    }\n",
       "\n",
       "    .dataframe tbody tr th {\n",
       "        vertical-align: top;\n",
       "    }\n",
       "\n",
       "    .dataframe thead th {\n",
       "        text-align: right;\n",
       "    }\n",
       "</style>\n",
       "<table border=\"1\" class=\"dataframe\">\n",
       "  <thead>\n",
       "    <tr style=\"text-align: right;\">\n",
       "      <th></th>\n",
       "      <th>count</th>\n",
       "      <th>unique</th>\n",
       "      <th>top</th>\n",
       "      <th>freq</th>\n",
       "    </tr>\n",
       "  </thead>\n",
       "  <tbody>\n",
       "    <tr>\n",
       "      <th>drive</th>\n",
       "      <td>42232</td>\n",
       "      <td>7</td>\n",
       "      <td>Front-Wheel Drive</td>\n",
       "      <td>14776</td>\n",
       "    </tr>\n",
       "    <tr>\n",
       "      <th>eng_dscr</th>\n",
       "      <td>26887</td>\n",
       "      <td>562</td>\n",
       "      <td>(FFS)</td>\n",
       "      <td>8827</td>\n",
       "    </tr>\n",
       "    <tr>\n",
       "      <th>fuelType</th>\n",
       "      <td>43418</td>\n",
       "      <td>14</td>\n",
       "      <td>Regular</td>\n",
       "      <td>27381</td>\n",
       "    </tr>\n",
       "    <tr>\n",
       "      <th>fuelType1</th>\n",
       "      <td>43418</td>\n",
       "      <td>6</td>\n",
       "      <td>Regular Gasoline</td>\n",
       "      <td>28828</td>\n",
       "    </tr>\n",
       "    <tr>\n",
       "      <th>make</th>\n",
       "      <td>43418</td>\n",
       "      <td>139</td>\n",
       "      <td>Chevrolet</td>\n",
       "      <td>4159</td>\n",
       "    </tr>\n",
       "    <tr>\n",
       "      <th>model</th>\n",
       "      <td>43418</td>\n",
       "      <td>4375</td>\n",
       "      <td>F150 Pickup 2WD</td>\n",
       "      <td>226</td>\n",
       "    </tr>\n",
       "    <tr>\n",
       "      <th>mpgData</th>\n",
       "      <td>43400</td>\n",
       "      <td>2</td>\n",
       "      <td>N</td>\n",
       "      <td>29726</td>\n",
       "    </tr>\n",
       "    <tr>\n",
       "      <th>trany</th>\n",
       "      <td>43407</td>\n",
       "      <td>40</td>\n",
       "      <td>Automatic 4-spd</td>\n",
       "      <td>11048</td>\n",
       "    </tr>\n",
       "    <tr>\n",
       "      <th>VClass</th>\n",
       "      <td>43418</td>\n",
       "      <td>34</td>\n",
       "      <td>Compact Cars</td>\n",
       "      <td>6086</td>\n",
       "    </tr>\n",
       "    <tr>\n",
       "      <th>guzzler</th>\n",
       "      <td>2558</td>\n",
       "      <td>3</td>\n",
       "      <td>G</td>\n",
       "      <td>1579</td>\n",
       "    </tr>\n",
       "    <tr>\n",
       "      <th>trans_dscr</th>\n",
       "      <td>15044</td>\n",
       "      <td>52</td>\n",
       "      <td>CLKUP</td>\n",
       "      <td>7809</td>\n",
       "    </tr>\n",
       "    <tr>\n",
       "      <th>tCharger</th>\n",
       "      <td>8143</td>\n",
       "      <td>1</td>\n",
       "      <td>T</td>\n",
       "      <td>8143</td>\n",
       "    </tr>\n",
       "    <tr>\n",
       "      <th>sCharger</th>\n",
       "      <td>916</td>\n",
       "      <td>1</td>\n",
       "      <td>S</td>\n",
       "      <td>916</td>\n",
       "    </tr>\n",
       "    <tr>\n",
       "      <th>atvType</th>\n",
       "      <td>3987</td>\n",
       "      <td>8</td>\n",
       "      <td>FFV</td>\n",
       "      <td>1479</td>\n",
       "    </tr>\n",
       "    <tr>\n",
       "      <th>fuelType2</th>\n",
       "      <td>1731</td>\n",
       "      <td>4</td>\n",
       "      <td>E85</td>\n",
       "      <td>1479</td>\n",
       "    </tr>\n",
       "    <tr>\n",
       "      <th>rangeA</th>\n",
       "      <td>1726</td>\n",
       "      <td>235</td>\n",
       "      <td>290</td>\n",
       "      <td>74</td>\n",
       "    </tr>\n",
       "    <tr>\n",
       "      <th>evMotor</th>\n",
       "      <td>1221</td>\n",
       "      <td>211</td>\n",
       "      <td>288V Ni-MH</td>\n",
       "      <td>138</td>\n",
       "    </tr>\n",
       "    <tr>\n",
       "      <th>mfrCode</th>\n",
       "      <td>12610</td>\n",
       "      <td>50</td>\n",
       "      <td>GMX</td>\n",
       "      <td>1802</td>\n",
       "    </tr>\n",
       "    <tr>\n",
       "      <th>c240Dscr</th>\n",
       "      <td>114</td>\n",
       "      <td>5</td>\n",
       "      <td>standard charger</td>\n",
       "      <td>103</td>\n",
       "    </tr>\n",
       "    <tr>\n",
       "      <th>c240bDscr</th>\n",
       "      <td>108</td>\n",
       "      <td>7</td>\n",
       "      <td>80 amp dual charger</td>\n",
       "      <td>55</td>\n",
       "    </tr>\n",
       "    <tr>\n",
       "      <th>createdOn</th>\n",
       "      <td>43418</td>\n",
       "      <td>356</td>\n",
       "      <td>Tue Jan 01 00:00:00 EST 2013</td>\n",
       "      <td>34194</td>\n",
       "    </tr>\n",
       "    <tr>\n",
       "      <th>modifiedOn</th>\n",
       "      <td>43418</td>\n",
       "      <td>218</td>\n",
       "      <td>Tue Jan 01 00:00:00 EST 2013</td>\n",
       "      <td>29175</td>\n",
       "    </tr>\n",
       "    <tr>\n",
       "      <th>startStop</th>\n",
       "      <td>11729</td>\n",
       "      <td>2</td>\n",
       "      <td>N</td>\n",
       "      <td>7146</td>\n",
       "    </tr>\n",
       "  </tbody>\n",
       "</table>\n",
       "</div>"
      ],
      "text/plain": [
       "            count unique                           top   freq\n",
       "drive       42232      7             Front-Wheel Drive  14776\n",
       "eng_dscr    26887    562                         (FFS)   8827\n",
       "fuelType    43418     14                       Regular  27381\n",
       "fuelType1   43418      6              Regular Gasoline  28828\n",
       "make        43418    139                     Chevrolet   4159\n",
       "model       43418   4375               F150 Pickup 2WD    226\n",
       "mpgData     43400      2                             N  29726\n",
       "trany       43407     40               Automatic 4-spd  11048\n",
       "VClass      43418     34                  Compact Cars   6086\n",
       "guzzler      2558      3                             G   1579\n",
       "trans_dscr  15044     52                         CLKUP   7809\n",
       "tCharger     8143      1                             T   8143\n",
       "sCharger      916      1                             S    916\n",
       "atvType      3987      8                           FFV   1479\n",
       "fuelType2    1731      4                           E85   1479\n",
       "rangeA       1726    235                           290     74\n",
       "evMotor      1221    211                    288V Ni-MH    138\n",
       "mfrCode     12610     50                           GMX   1802\n",
       "c240Dscr      114      5              standard charger    103\n",
       "c240bDscr     108      7           80 amp dual charger     55\n",
       "createdOn   43418    356  Tue Jan 01 00:00:00 EST 2013  34194\n",
       "modifiedOn  43418    218  Tue Jan 01 00:00:00 EST 2013  29175\n",
       "startStop   11729      2                             N   7146"
      ]
     },
     "execution_count": 4,
     "metadata": {},
     "output_type": "execute_result"
    }
   ],
   "source": [
    "# object 타입 include 활용\n",
    "fueleco.describe(include=object).T"
   ]
  },
  {
   "cell_type": "code",
   "execution_count": 5,
   "id": "8cd013f5-d104-43e2-a5e1-1d6c59feaa29",
   "metadata": {},
   "outputs": [
    {
     "data": {
      "text/plain": [
       "float64    32\n",
       "int64      27\n",
       "object     23\n",
       "bool        1\n",
       "dtype: int64"
      ]
     },
     "execution_count": 5,
     "metadata": {},
     "output_type": "execute_result"
    }
   ],
   "source": [
    "fueleco.dtypes.value_counts()"
   ]
  },
  {
   "cell_type": "code",
   "execution_count": 6,
   "id": "3a858607-c968-4a7a-ac5c-87cac28e9e1a",
   "metadata": {},
   "outputs": [
    {
     "data": {
      "text/plain": [
       "Index(['drive', 'eng_dscr', 'fuelType', 'fuelType1', 'make', 'model',\n",
       "       'mpgData', 'trany', 'VClass', 'guzzler', 'trans_dscr', 'tCharger',\n",
       "       'sCharger', 'atvType', 'fuelType2', 'rangeA', 'evMotor', 'mfrCode',\n",
       "       'c240Dscr', 'c240bDscr', 'createdOn', 'modifiedOn', 'startStop'],\n",
       "      dtype='object')"
      ]
     },
     "execution_count": 6,
     "metadata": {},
     "output_type": "execute_result"
    }
   ],
   "source": [
    "# object type 확인\n",
    "fueleco.select_dtypes(object).columns"
   ]
  },
  {
   "cell_type": "code",
   "execution_count": 7,
   "id": "d9b6a36e-f4e4-40ad-9186-bd17aed498c3",
   "metadata": {},
   "outputs": [
    {
     "data": {
      "text/plain": [
       "6"
      ]
     },
     "execution_count": 7,
     "metadata": {},
     "output_type": "execute_result"
    }
   ],
   "source": [
    "# fuelType1를 선택\n",
    "fueleco.fuelType1.nunique()"
   ]
  },
  {
   "cell_type": "markdown",
   "id": "5049c96e-89fe-47d4-8ef9-0c6420a4df03",
   "metadata": {},
   "source": [
    "unique값이 6개 밖에 없다. 이런 경우 시각화하기 좋은 데이터다. "
   ]
  },
  {
   "cell_type": "code",
   "execution_count": 8,
   "id": "66e17d74-ce9f-4a68-b428-472d146c9c9f",
   "metadata": {},
   "outputs": [
    {
     "data": {
      "text/plain": [
       "Regular Gasoline     28828\n",
       "Premium Gasoline     12921\n",
       "Diesel                1203\n",
       "Electricity            276\n",
       "Midgrade Gasoline      130\n",
       "Natural Gas             60\n",
       "Name: fuelType1, dtype: int64"
      ]
     },
     "execution_count": 8,
     "metadata": {},
     "output_type": "execute_result"
    }
   ],
   "source": [
    "fueleco.fuelType1.value_counts()"
   ]
  },
  {
   "cell_type": "markdown",
   "id": "2da7f9c0-983c-4d8d-ab3c-6652a0b1789b",
   "metadata": {},
   "source": [
    "# fueleco 데이터를 사용하여 몇가지 컬럼들에 대해서 자유롭게 그래프를 그려보기"
   ]
  },
  {
   "cell_type": "markdown",
   "id": "679ee509-3a48-418e-a252-596d5c47d0c6",
   "metadata": {},
   "source": [
    "## Bar Chart 그리기"
   ]
  },
  {
   "cell_type": "code",
   "execution_count": 9,
   "id": "a9e0f4fa-b701-408d-9eec-e37b92162d55",
   "metadata": {},
   "outputs": [
    {
     "data": {
      "text/plain": [
       "<AxesSubplot:>"
      ]
     },
     "execution_count": 9,
     "metadata": {},
     "output_type": "execute_result"
    },
    {
     "data": {
      "image/png": "[encoded data removed]",
      "text/plain": [
       "<Figure size 432x288 with 1 Axes>"
      ]
     },
     "metadata": {
      "needs_background": "light"
     },
     "output_type": "display_data"
    }
   ],
   "source": [
    "fueleco.fuelType1.value_counts().plot(kind='bar')"
   ]
  },
  {
   "cell_type": "markdown",
   "id": "7f7510f8-c7d6-4ff5-a914-4218fe6edf62",
   "metadata": {},
   "source": [
    "아래와 같이 plot(kind='bar') 대신 plot.bar()을 사용해도 같은 결과가 나온다."
   ]
  },
  {
   "cell_type": "code",
   "execution_count": 10,
   "id": "9079e25f-0706-46e9-946f-a91d0e879311",
   "metadata": {
    "tags": []
   },
   "outputs": [
    {
     "data": {
      "text/plain": [
       "<AxesSubplot:>"
      ]
     },
     "execution_count": 10,
     "metadata": {},
     "output_type": "execute_result"
    },
    {
     "data": {
      "image/png": "[encoded data removed]",
      "text/plain": [
       "<Figure size 432x288 with 1 Axes>"
      ]
     },
     "metadata": {
      "needs_background": "light"
     },
     "output_type": "display_data"
    }
   ],
   "source": [
    "fueleco.fuelType1.value_counts().plot.bar()"
   ]
  },
  {
   "cell_type": "markdown",
   "id": "b09491b6-f7aa-4a83-81d2-86e77b812d8b",
   "metadata": {
    "tags": []
   },
   "source": [
    "## matplotlib을 이용하는 방법"
   ]
  },
  {
   "cell_type": "code",
   "execution_count": 11,
   "id": "d91a2335-eade-4010-bc1b-257e80cdd48d",
   "metadata": {},
   "outputs": [
    {
     "data": {
      "text/plain": [
       "<BarContainer object of 6 artists>"
      ]
     },
     "execution_count": 11,
     "metadata": {},
     "output_type": "execute_result"
    },
    {
     "data": {
      "image/png": "[encoded data removed]",
      "text/plain": [
       "<Figure size 720x576 with 1 Axes>"
      ]
     },
     "metadata": {
      "needs_background": "light"
     },
     "output_type": "display_data"
    }
   ],
   "source": [
    "# matplotlib을 이용하는 방법\n",
    "import matplotlib.pyplot as plt\n",
    "\n",
    "# figsize는 그림의 사이즈를 조정  \n",
    "fig, ax = plt.subplots(figsize=(10, 8))\n",
    "plt.bar(fueleco.fuelType1.value_counts().index, fueleco.fuelType1.value_counts())"
   ]
  },
  {
   "cell_type": "markdown",
   "id": "1fa68e48-7580-496e-ab06-e79680e0221f",
   "metadata": {},
   "source": [
    "## seaborn을 이용하는 방법\n",
    "seaborn은 matplotlib에 비해 색이나 구현의 세부적인옵션이 다양"
   ]
  },
  {
   "cell_type": "code",
   "execution_count": 12,
   "id": "4e005fe0-604f-4872-9ff1-2e652f26cf85",
   "metadata": {},
   "outputs": [
    {
     "name": "stderr",
     "output_type": "stream",
     "text": [
      "C:\\Users\\USER\\anaconda3\\lib\\site-packages\\seaborn\\_decorators.py:36: FutureWarning: Pass the following variables as keyword args: x, y. From version 0.12, the only valid positional argument will be `data`, and passing other arguments without an explicit keyword will result in an error or misinterpretation.\n",
      "  warnings.warn(\n"
     ]
    },
    {
     "data": {
      "text/plain": [
       "<AxesSubplot:ylabel='fuelType1'>"
      ]
     },
     "execution_count": 12,
     "metadata": {},
     "output_type": "execute_result"
    },
    {
     "data": {
      "image/png": "[encoded data removed]",
      "text/plain": [
       "<Figure size 432x288 with 1 Axes>"
      ]
     },
     "metadata": {
      "needs_background": "light"
     },
     "output_type": "display_data"
    }
   ],
   "source": [
    "#seaborn을 이용하는 방법\n",
    "\n",
    "import seaborn as sns\n",
    "sns.barplot(fueleco.fuelType1.value_counts().index, fueleco.fuelType1.value_counts())"
   ]
  },
  {
   "cell_type": "markdown",
   "id": "bd6c7f21-5c3a-424c-91a7-4a1be5626c59",
   "metadata": {},
   "source": [
    "Vclass 데이터는 Length가 34로 너무 많아서 그래프로 표현하기에 어려움 그래서 최대값 n개를 선택하는 방법을 사용"
   ]
  },
  {
   "cell_type": "code",
   "execution_count": 13,
   "id": "f7c9d360-0146-4642-a5ea-a7e38ecf85e3",
   "metadata": {},
   "outputs": [
    {
     "data": {
      "text/plain": [
       "Compact Cars                          6086\n",
       "Subcompact Cars                       5381\n",
       "Midsize Cars                          5184\n",
       "Large Cars                            2359\n",
       "Standard Pickup Trucks                2354\n",
       "Two Seaters                           2215\n",
       "Sport Utility Vehicle - 4WD           2078\n",
       "Small Station Wagons                  1662\n",
       "Sport Utility Vehicle - 2WD           1627\n",
       "Special Purpose Vehicles              1455\n",
       "Minicompact Cars                      1452\n",
       "Standard Pickup Trucks 2WD            1333\n",
       "Standard Pickup Trucks 4WD            1190\n",
       "Small Sport Utility Vehicle 4WD       1152\n",
       "Vans                                  1141\n",
       "Standard Sport Utility Vehicle 4WD     911\n",
       "Small Sport Utility Vehicle 2WD        759\n",
       "Special Purpose Vehicle 2WD            698\n",
       "Midsize-Large Station Wagons           656\n",
       "Midsize Station Wagons                 566\n",
       "Small Pickup Trucks                    538\n",
       "Small Pickup Trucks 2WD                485\n",
       "Vans, Cargo Type                       438\n",
       "Minivan - 2WD                          377\n",
       "Standard Sport Utility Vehicle 2WD     334\n",
       "Special Purpose Vehicle 4WD            326\n",
       "Vans, Passenger Type                   321\n",
       "Small Pickup Trucks 4WD                276\n",
       "Minivan - 4WD                           53\n",
       "Standard Pickup Trucks/2wd               4\n",
       "Vans Passenger                           2\n",
       "Special Purpose Vehicles/2wd             2\n",
       "Special Purpose Vehicles/4wd             2\n",
       "Special Purpose Vehicle                  1\n",
       "Name: VClass, dtype: int64"
      ]
     },
     "execution_count": 13,
     "metadata": {},
     "output_type": "execute_result"
    }
   ],
   "source": [
    "fueleco.VClass.value_counts()"
   ]
  },
  {
   "cell_type": "code",
   "execution_count": 14,
   "id": "f15c88c8-704f-468b-9d4f-206f5b339b55",
   "metadata": {},
   "outputs": [],
   "source": [
    "# 최대값 6개를 선택하는 방법\n",
    "top_n = fueleco.VClass.value_counts().index[:6]"
   ]
  },
  {
   "cell_type": "code",
   "execution_count": 15,
   "id": "b1609db9-4c12-42be-b945-5a575245927d",
   "metadata": {},
   "outputs": [
    {
     "data": {
      "text/plain": [
       "Index(['Compact Cars', 'Subcompact Cars', 'Midsize Cars', 'Large Cars',\n",
       "       'Standard Pickup Trucks', 'Two Seaters'],\n",
       "      dtype='object')"
      ]
     },
     "execution_count": 15,
     "metadata": {},
     "output_type": "execute_result"
    }
   ],
   "source": [
    "top_n"
   ]
  },
  {
   "cell_type": "code",
   "execution_count": 16,
   "id": "d385ee2a-6c5c-411c-a5aa-b00cdd494490",
   "metadata": {},
   "outputs": [
    {
     "data": {
      "text/plain": [
       "Other                     19839\n",
       "Compact Cars               6086\n",
       "Subcompact Cars            5381\n",
       "Midsize Cars               5184\n",
       "Large Cars                 2359\n",
       "Standard Pickup Trucks     2354\n",
       "Two Seaters                2215\n",
       "Name: VClass, dtype: int64"
      ]
     },
     "execution_count": 16,
     "metadata": {},
     "output_type": "execute_result"
    }
   ],
   "source": [
    "(\n",
    "    fueleco.assign(VClass=fueleco.VClass.where(fueleco.VClass.isin(top_n), 'Other'))\n",
    "    .VClass.value_counts()\n",
    ")\n",
    "# where 는 조건에 맞지 않는 값을 다른 값으로 바꾸는 함수"
   ]
  },
  {
   "cell_type": "code",
   "execution_count": 17,
   "id": "3750ddc2-df75-4bcd-bedd-d9c9294da03b",
   "metadata": {},
   "outputs": [
    {
     "data": {
      "text/plain": [
       "<AxesSubplot:>"
      ]
     },
     "execution_count": 17,
     "metadata": {},
     "output_type": "execute_result"
    },
    {
     "data": {
      "image/png": "[encoded data removed]",
      "text/plain": [
       "<Figure size 720x576 with 1 Axes>"
      ]
     },
     "metadata": {
      "needs_background": "light"
     },
     "output_type": "display_data"
    }
   ],
   "source": [
    "# Other을 제외한 나머지 6개를 선택하여 그래프를 만들기\n",
    "fig, ax = plt.subplots(figsize=(10, 8))\n",
    "top_n = fueleco.VClass.value_counts().index[:6]\n",
    "(\n",
    "    fueleco.assign(\n",
    "    VClass = fueleco.VClass.where(\n",
    "    fueleco.VClass.isin(top_n), 'Other'))\n",
    "    .VClass.value_counts()[1:]\n",
    "    .plot.bar(ax=ax)\n",
    ")"
   ]
  },
  {
   "cell_type": "markdown",
   "id": "93554948-7e04-4db2-943c-187470dd2ed6",
   "metadata": {},
   "source": [
    "## countplot을 사용한 방법"
   ]
  },
  {
   "cell_type": "code",
   "execution_count": 18,
   "id": "df7c513a-4f3e-4064-86fb-8fb1db004bd1",
   "metadata": {},
   "outputs": [
    {
     "data": {
      "text/plain": [
       "Regular                        27381\n",
       "Premium                        12637\n",
       "Gasoline or E85                 1352\n",
       "Diesel                          1203\n",
       "Electricity                      276\n",
       "Midgrade                         130\n",
       "Premium or E85                   127\n",
       "Premium and Electricity          100\n",
       "Regular Gas and Electricity       63\n",
       "CNG                               60\n",
       "Premium Gas or Electricity        57\n",
       "Gasoline or natural gas           20\n",
       "Gasoline or propane                8\n",
       "Regular Gas or Electricity         4\n",
       "Name: fuelType, dtype: int64"
      ]
     },
     "execution_count": 18,
     "metadata": {},
     "output_type": "execute_result"
    }
   ],
   "source": [
    "fueleco.fuelType.value_counts()"
   ]
  },
  {
   "cell_type": "code",
   "execution_count": 19,
   "id": "84893c11-b5e9-4ba7-b825-65f9af202b79",
   "metadata": {},
   "outputs": [
    {
     "data": {
      "text/plain": [
       "<AxesSubplot:xlabel='count', ylabel='fuelType'>"
      ]
     },
     "execution_count": 19,
     "metadata": {},
     "output_type": "execute_result"
    },
    {
     "data": {
      "image/png": "[encoded data removed]",
      "text/plain": [
       "<Figure size 720x576 with 1 Axes>"
      ]
     },
     "metadata": {
      "needs_background": "light"
     },
     "output_type": "display_data"
    }
   ],
   "source": [
    "fig, ax = plt.subplots(figsize=(10, 8))\n",
    "sns.countplot(y='fuelType', data=(fueleco), order=fueleco.fuelType.value_counts().index)"
   ]
  },
  {
   "cell_type": "code",
   "execution_count": 20,
   "id": "1fa1e976-731e-4d87-a4f9-f3be0e442b37",
   "metadata": {},
   "outputs": [
    {
     "data": {
      "text/plain": [
       "Front-Wheel Drive             14776\n",
       "Rear-Wheel Drive              14409\n",
       "4-Wheel or All-Wheel Drive     6645\n",
       "All-Wheel Drive                3788\n",
       "4-Wheel Drive                  1788\n",
       "Name: drive, dtype: int64"
      ]
     },
     "execution_count": 20,
     "metadata": {},
     "output_type": "execute_result"
    }
   ],
   "source": [
    "fueleco.drive.value_counts().head()"
   ]
  },
  {
   "cell_type": "code",
   "execution_count": 21,
   "id": "41f49163-57f0-49cd-a444-cfa215fdc5e4",
   "metadata": {},
   "outputs": [
    {
     "data": {
      "text/plain": [
       "<AxesSubplot:xlabel='count', ylabel='drive'>"
      ]
     },
     "execution_count": 21,
     "metadata": {},
     "output_type": "execute_result"
    },
    {
     "data": {
      "image/png": "[encoded data removed]",
      "text/plain": [
       "<Figure size 720x576 with 1 Axes>"
      ]
     },
     "metadata": {
      "needs_background": "light"
     },
     "output_type": "display_data"
    }
   ],
   "source": [
    "import seaborn as sns\n",
    "\n",
    "fig, ax = plt.subplots(figsize=(10, 8))\n",
    "top_n = fueleco.drive.value_counts().index[:6]\n",
    "sns.countplot(y='drive',\n",
    "             data=(fueleco[fueleco.drive.isin(top_n)])\n",
    "             , hue='fuelType', order=fueleco.drive.value_counts().index[:6]\n",
    "             #, dodge=False\n",
    "             )"
   ]
  },
  {
   "cell_type": "markdown",
   "id": "e846383a-66ef-416a-8c78-672827688a2a",
   "metadata": {},
   "source": [
    "fuelType이 Regular인 것이 대부분인데 반해 All-Wheel Drive와 4-Wheel Drive는 Premium의 값이 더 큰 것을 알 수 있다."
   ]
  },
  {
   "cell_type": "code",
   "execution_count": 22,
   "id": "1a486ab3-b5e0-4190-86a6-b40dc02ce7f2",
   "metadata": {},
   "outputs": [
    {
     "data": {
      "text/plain": [
       "<AxesSubplot:xlabel='highway08', ylabel='Count'>"
      ]
     },
     "execution_count": 22,
     "metadata": {},
     "output_type": "execute_result"
    },
    {
     "data": {
      "image/png": "[encoded data removed]",
      "text/plain": [
       "<Figure size 720x576 with 1 Axes>"
      ]
     },
     "metadata": {
      "needs_background": "light"
     },
     "output_type": "display_data"
    }
   ],
   "source": [
    "fig, ax = plt.subplots(figsize=(10, 8))\n",
    "top_n = fueleco.drive.value_counts().index[:3]\n",
    "sns.histplot(x='highway08',\n",
    "           data=(fueleco[fueleco.drive.isin(top_n)]), hue='drive', binwidth=2,\n",
    "           ax=ax)"
   ]
  },
  {
   "cell_type": "code",
   "execution_count": 23,
   "id": "5a68bf2e-2872-4e59-875d-e0686f57860e",
   "metadata": {},
   "outputs": [
    {
     "data": {
      "text/plain": [
       "39431"
      ]
     },
     "execution_count": 23,
     "metadata": {},
     "output_type": "execute_result"
    }
   ],
   "source": [
    "# atvType의 na값 확인\n",
    "fueleco.atvType.isna().sum()"
   ]
  },
  {
   "cell_type": "code",
   "execution_count": 24,
   "id": "51bfd073-4beb-4efd-9f91-901f5d6147ac",
   "metadata": {},
   "outputs": [
    {
     "data": {
      "text/plain": [
       "NaN               39431\n",
       "FFV                1479\n",
       "Diesel             1131\n",
       "Hybrid              799\n",
       "EV                  276\n",
       "Plug-in Hybrid      224\n",
       "CNG                  50\n",
       "Bifuel (CNG)         20\n",
       "Bifuel (LPG)          8\n",
       "Name: atvType, dtype: int64"
      ]
     },
     "execution_count": 24,
     "metadata": {},
     "output_type": "execute_result"
    }
   ],
   "source": [
    "#value_counts 에서 dropna=False 를 주면, na값을 다른 값의 수와 비교하기 쉬움\n",
    "fueleco.atvType.value_counts(dropna=False)"
   ]
  },
  {
   "cell_type": "code",
   "execution_count": 25,
   "id": "16dfc140-ff61-4fd9-8db6-17ef940b58f9",
   "metadata": {},
   "outputs": [
    {
     "data": {
      "text/plain": [
       "<AxesSubplot:>"
      ]
     },
     "execution_count": 25,
     "metadata": {},
     "output_type": "execute_result"
    },
    {
     "data": {
      "image/png": "[encoded data removed]",
      "text/plain": [
       "<Figure size 432x288 with 1 Axes>"
      ]
     },
     "metadata": {
      "needs_background": "light"
     },
     "output_type": "display_data"
    }
   ],
   "source": [
    "# 간단한 플롯인 경우, plt 나 sns을 사용하지 않고, pandas 의 plot 을 사용\n",
    "fueleco.atvType.value_counts(dropna=False).plot(kind='bar')"
   ]
  },
  {
   "cell_type": "markdown",
   "id": "7afb7892-80bc-44be-8885-542ab2940028",
   "metadata": {
    "tags": []
   },
   "source": [
    "## Object 형태 -> 수치형"
   ]
  },
  {
   "cell_type": "code",
   "execution_count": 26,
   "id": "380a50f6-8c87-4e15-a649-332b906f53b5",
   "metadata": {},
   "outputs": [
    {
     "data": {
      "text/plain": [
       "NaN        41692\n",
       "290           74\n",
       "270           58\n",
       "280           56\n",
       "310           41\n",
       "           ...  \n",
       "362/537        1\n",
       "337/501        1\n",
       "286            1\n",
       "341            1\n",
       "301            1\n",
       "Name: rangeA, Length: 236, dtype: int64"
      ]
     },
     "execution_count": 26,
     "metadata": {},
     "output_type": "execute_result"
    }
   ],
   "source": [
    "fueleco.rangeA.value_counts(dropna=False)"
   ]
  },
  {
   "cell_type": "code",
   "execution_count": 27,
   "id": "76523b0a-de9b-4946-8244-7e7a40cf5bd7",
   "metadata": {
    "tags": []
   },
   "outputs": [
    {
     "data": {
      "text/plain": [
       "/    323\n",
       "-     71\n",
       "dtype: int64"
      ]
     },
     "execution_count": 27,
     "metadata": {},
     "output_type": "execute_result"
    }
   ],
   "source": [
    "# 362/537 같은 이상한 데이터와 NA 값도 많음\n",
    "# 값 안에 숫자가 아닌 것을 찾기 위해서, 정규표현식 사용\n",
    "\n",
    "(\n",
    "    # ^ 는 not 의 의미 그러니까 숫자와 . 을 뺀 문자를 표현\n",
    "    fueleco.rangeA.str.extract(r'([^0-9.])')\n",
    "    .dropna() # na 값 버리기\n",
    "    #.apply(lambda row: ''.join(row), axis=1)\n",
    "    .value_counts()\n",
    ")"
   ]
  },
  {
   "cell_type": "code",
   "execution_count": 28,
   "id": "73ee7255-fb4f-4186-b37a-f619fb056547",
   "metadata": {},
   "outputs": [
    {
     "data": {
      "text/plain": [
       "{float, str}"
      ]
     },
     "execution_count": 28,
     "metadata": {},
     "output_type": "execute_result"
    }
   ],
   "source": [
    "set(fueleco.rangeA.apply(type))"
   ]
  },
  {
   "cell_type": "code",
   "execution_count": 29,
   "id": "adeb8ab9-ea53-4940-b057-53b9e3d67d9e",
   "metadata": {},
   "outputs": [
    {
     "data": {
      "text/plain": [
       "(-0.45, 44.95]     41889\n",
       "(269.7, 314.65]      600\n",
       "(314.65, 359.6]      379\n",
       "(359.6, 404.55]      216\n",
       "(224.75, 269.7]      187\n",
       "(404.55, 449.5]       92\n",
       "(89.9, 134.85]        21\n",
       "(44.95, 89.9]         20\n",
       "(179.8, 224.75]        9\n",
       "(134.85, 179.8]        5\n",
       "dtype: int64"
      ]
     },
     "execution_count": 29,
     "metadata": {},
     "output_type": "execute_result"
    }
   ],
   "source": [
    "(\n",
    "    fueleco.rangeA.fillna('0')\n",
    "    .str.replace('-', '/')\n",
    "    .str.split('/', expand=True)\n",
    "    .astype(float)\n",
    "    .mean(axis=1)\n",
    "    .pipe(lambda ser_: pd.cut(ser_, 10))\n",
    "    .value_counts()\n",
    ")"
   ]
  },
  {
   "cell_type": "markdown",
   "id": "50ee252b-b2b1-4a21-9d82-86925377d231",
   "metadata": {},
   "source": [
    "이렇게 수치형으로 바꾼 것도 구간으로 나눠주면 범주형처럼 사용할 수 있음\n",
    "\n",
    "pandas 에서는 수치의 범주화를 위해 크게 두 함수를 사용\n",
    "* cut: 동일한 너비의 구간으로 나눔\n",
    "* qcut: 분위수를 기준으로 나눔"
   ]
  },
  {
   "cell_type": "code",
   "execution_count": 30,
   "id": "9973e995-0935-46ae-a27c-bfc810a35d05",
   "metadata": {},
   "outputs": [
    {
     "data": {
      "text/plain": [
       "<AxesSubplot:>"
      ]
     },
     "execution_count": 30,
     "metadata": {},
     "output_type": "execute_result"
    },
    {
     "data": {
      "image/png": "[encoded data removed]",
      "text/plain": [
       "<Figure size 432x288 with 1 Axes>"
      ]
     },
     "metadata": {
      "needs_background": "light"
     },
     "output_type": "display_data"
    }
   ],
   "source": [
    "# qcut 사용방법\n",
    "# 데이터는 highway08을 사용\n",
    "(\n",
    "    fueleco.highway08.pipe(\n",
    "    lambda ser: pd.qcut(ser, q=10)\n",
    "    ).value_counts()\n",
    "    .sort_index()\n",
    "    .plot.bar()\n",
    ")"
   ]
  },
  {
   "cell_type": "code",
   "execution_count": 31,
   "id": "bf2fc853-ca6b-4b1a-a67e-96d896e0cf73",
   "metadata": {},
   "outputs": [
    {
     "data": {
      "text/plain": [
       "<AxesSubplot:ylabel='Frequency'>"
      ]
     },
     "execution_count": 31,
     "metadata": {},
     "output_type": "execute_result"
    },
    {
     "data": {
      "image/png": "[encoded data removed]",
      "text/plain": [
       "<Figure size 432x288 with 1 Axes>"
      ]
     },
     "metadata": {
      "needs_background": "light"
     },
     "output_type": "display_data"
    }
   ],
   "source": [
    "# 히스토그램 사용\n",
    "fueleco.highway08.plot.hist(bins=60)"
   ]
  },
  {
   "cell_type": "markdown",
   "id": "436340db-eaf4-4188-be97-395b23d268bc",
   "metadata": {
    "tags": []
   },
   "source": [
    "## 연속형 데이터(수치)를 이용한 방법"
   ]
  },
  {
   "cell_type": "markdown",
   "id": "11a2bc05-ce2a-4a3d-a8b9-2f83b7c7d3b9",
   "metadata": {},
   "source": [
    "comb08를 사용"
   ]
  },
  {
   "cell_type": "code",
   "execution_count": 32,
   "id": "172952a8-a51b-4e41-b22d-a588d4503ec2",
   "metadata": {},
   "outputs": [
    {
     "data": {
      "text/plain": [
       "0        21\n",
       "1        11\n",
       "2        27\n",
       "3        11\n",
       "4        19\n",
       "         ..\n",
       "43413    22\n",
       "43414    23\n",
       "43415    21\n",
       "43416    21\n",
       "43417    18\n",
       "Name: comb08, Length: 43418, dtype: int64"
      ]
     },
     "execution_count": 32,
     "metadata": {},
     "output_type": "execute_result"
    }
   ],
   "source": [
    "fueleco.comb08"
   ]
  },
  {
   "cell_type": "code",
   "execution_count": 33,
   "id": "f6c7591d-031e-4b08-8f3a-e473fd91ca68",
   "metadata": {},
   "outputs": [
    {
     "data": {
      "text/plain": [
       "18     4065\n",
       "19     3856\n",
       "21     3767\n",
       "20     3598\n",
       "17     2835\n",
       "       ... \n",
       "74        1\n",
       "126       1\n",
       "94        1\n",
       "115       1\n",
       "142       1\n",
       "Name: comb08, Length: 109, dtype: int64"
      ]
     },
     "execution_count": 33,
     "metadata": {},
     "output_type": "execute_result"
    }
   ],
   "source": [
    "# 원래는 연속형 데이터(수치)는 value_counts가 잘 않됨\n",
    "fueleco.comb08.value_counts()"
   ]
  },
  {
   "cell_type": "code",
   "execution_count": 34,
   "id": "d743a126-26d0-4af9-9609-9f4e35d6c397",
   "metadata": {},
   "outputs": [
    {
     "data": {
      "text/plain": [
       "count    43418.000000\n",
       "mean        20.894997\n",
       "std          8.401355\n",
       "min          7.000000\n",
       "25%         17.000000\n",
       "50%         20.000000\n",
       "75%         23.000000\n",
       "max        142.000000\n",
       "Name: comb08, dtype: float64"
      ]
     },
     "execution_count": 34,
     "metadata": {},
     "output_type": "execute_result"
    }
   ],
   "source": [
    "# describe값 확인\n",
    "fueleco.comb08.describe()"
   ]
  },
  {
   "cell_type": "code",
   "execution_count": 35,
   "id": "e2d75c75-8939-4199-8958-bfaa02bb5ad7",
   "metadata": {},
   "outputs": [
    {
     "data": {
      "text/plain": [
       "0"
      ]
     },
     "execution_count": 35,
     "metadata": {},
     "output_type": "execute_result"
    }
   ],
   "source": [
    "# na값 확인\n",
    "fueleco.comb08.isna().sum()"
   ]
  },
  {
   "cell_type": "code",
   "execution_count": 36,
   "id": "35396884-d8bb-4dc3-a7f1-d39d8aec10f4",
   "metadata": {},
   "outputs": [
    {
     "data": {
      "text/plain": [
       "<AxesSubplot:>"
      ]
     },
     "execution_count": 36,
     "metadata": {},
     "output_type": "execute_result"
    },
    {
     "data": {
      "image/png": "[encoded data removed]",
      "text/plain": [
       "<Figure size 720x576 with 1 Axes>"
      ]
     },
     "metadata": {
      "needs_background": "light"
     },
     "output_type": "display_data"
    }
   ],
   "source": [
    "# histgram을 사용하여 그리기(수치형의 경우 histogram을 통해 표현하기 좋음)\n",
    "\n",
    "import matplotlib.pyplot as plt\n",
    "fig, ax = plt.subplots(figsize=(10, 8))\n",
    "fueleco.comb08.hist(ax=ax)\n",
    "#plt.hist()"
   ]
  },
  {
   "cell_type": "code",
   "execution_count": 37,
   "id": "c8fe4a54-6d1a-4083-bd03-38766437bdcd",
   "metadata": {},
   "outputs": [
    {
     "data": {
      "text/plain": [
       "<AxesSubplot:>"
      ]
     },
     "execution_count": 37,
     "metadata": {},
     "output_type": "execute_result"
    },
    {
     "data": {
      "image/png": "[encoded data removed]",
      "text/plain": [
       "<Figure size 720x576 with 1 Axes>"
      ]
     },
     "metadata": {
      "needs_background": "light"
     },
     "output_type": "display_data"
    }
   ],
   "source": [
    "# 0~20 사이가 너무 두꺼워서 세부적 모양을 보기 어려울 때 bin의 개수를 늘리면 보기 편함\n",
    "fig, ax = plt.subplots(figsize=(10, 8))\n",
    "fueleco.comb08.hist(ax=ax, bins=60)"
   ]
  },
  {
   "cell_type": "code",
   "execution_count": 38,
   "id": "e12d01ad-c999-44a6-bbfc-08c905bc706f",
   "metadata": {},
   "outputs": [
    {
     "data": {
      "text/plain": [
       "<AxesSubplot:>"
      ]
     },
     "execution_count": 38,
     "metadata": {},
     "output_type": "execute_result"
    },
    {
     "data": {
      "image/png": "[encoded data removed]",
      "text/plain": [
       "<Figure size 432x288 with 1 Axes>"
      ]
     },
     "metadata": {
      "needs_background": "light"
     },
     "output_type": "display_data"
    }
   ],
   "source": [
    "# 최종결과물이 아닐 경우 이 코드가 더 간편\n",
    "fueleco.comb08.hist(bins=30)"
   ]
  },
  {
   "cell_type": "code",
   "execution_count": 39,
   "id": "5af053f1-e779-4d93-8ccd-7edd9aad13bd",
   "metadata": {
    "tags": []
   },
   "outputs": [
    {
     "data": {
      "text/plain": [
       "<AxesSubplot:xlabel='Count', ylabel='comb08'>"
      ]
     },
     "execution_count": 39,
     "metadata": {},
     "output_type": "execute_result"
    },
    {
     "data": {
      "image/png": "[encoded data removed]",
      "text/plain": [
       "<Figure size 720x576 with 1 Axes>"
      ]
     },
     "metadata": {
      "needs_background": "light"
     },
     "output_type": "display_data"
    }
   ],
   "source": [
    "# seaborn 을 이용하면 더 다양한 정보가 들어간 그래프를 그릴 수 있음\n",
    "# comb08, drive 사용\n",
    "\n",
    "fig, ax = plt.subplots(figsize=(10, 8))\n",
    "sns.histplot(data=fueleco, y='comb08', hue='drive', ax=ax, binwidth=1)"
   ]
  },
  {
   "cell_type": "markdown",
   "id": "45f2ff43-1a78-4d9d-aaa4-81462d29d3f3",
   "metadata": {},
   "source": [
    "## boxplot, violinplot, boxenplot 그리기"
   ]
  },
  {
   "cell_type": "code",
   "execution_count": 40,
   "id": "582bea00-a0a4-400b-9cfc-ecd99d35950c",
   "metadata": {},
   "outputs": [
    {
     "data": {
      "text/plain": [
       "<AxesSubplot:xlabel='comb08'>"
      ]
     },
     "execution_count": 40,
     "metadata": {},
     "output_type": "execute_result"
    },
    {
     "data": {
      "image/png": "[encoded data removed]",
      "text/plain": [
       "<Figure size 720x576 with 3 Axes>"
      ]
     },
     "metadata": {
      "needs_background": "light"
     },
     "output_type": "display_data"
    }
   ],
   "source": [
    "fig, axs = plt.subplots(nrows=3, figsize=(10, 8))\n",
    "sns.boxplot(x=fueleco.comb08, ax=axs[0])\n",
    "sns.violinplot(x=fueleco.comb08, ax=axs[1])\n",
    "sns.boxenplot(x=fueleco.comb08, ax=axs[2])"
   ]
  },
  {
   "cell_type": "code",
   "execution_count": 41,
   "id": "f2845f0a-f47d-4536-8676-a3d83ab0d255",
   "metadata": {},
   "outputs": [
    {
     "data": {
      "text/plain": [
       "KstestResult(statistic=0.991040847156501, pvalue=0.0)"
      ]
     },
     "execution_count": 41,
     "metadata": {},
     "output_type": "execute_result"
    }
   ],
   "source": [
    "# 데이터의 정규성을 검정하려면 SciPy의 kstest 를 사용\n",
    "# kstest 에서 pvalue 가 0.05 이하라면 데이터는 정규분포가 아니다.\n",
    "\n",
    "from scipy import stats\n",
    "stats.kstest(fueleco.barrels08, cdf='norm')"
   ]
  },
  {
   "cell_type": "code",
   "execution_count": 42,
   "id": "1db91d65-5f7c-4200-a7a2-072a582a85c5",
   "metadata": {},
   "outputs": [
    {
     "data": {
      "text/plain": [
       "((array([-4.15925471, -3.95199683, -3.83894277, ...,  3.83894277,\n",
       "          3.95199683,  4.15925471]),\n",
       "  array([ 0.06      ,  0.06      ,  0.06      , ..., 47.08714286,\n",
       "         47.08714286, 47.08714286])),\n",
       " (4.594073489329083, 17.13286478232145, 0.9818770745376701))"
      ]
     },
     "execution_count": 42,
     "metadata": {},
     "output_type": "execute_result"
    },
    {
     "data": {
      "image/png": "[encoded data removed]",
      "text/plain": [
       "<Figure size 720x576 with 1 Axes>"
      ]
     },
     "metadata": {
      "needs_background": "light"
     },
     "output_type": "display_data"
    }
   ],
   "source": [
    "fig, ax = plt.subplots(figsize=(10, 8))\n",
    "stats.probplot(fueleco.barrels08, plot=ax)"
   ]
  },
  {
   "cell_type": "markdown",
   "id": "85c4f8cc-a4d8-49da-886a-a63fa440e85d",
   "metadata": {},
   "source": [
    "## 범주간 연속값 비교를 통해 그리기"
   ]
  },
  {
   "cell_type": "markdown",
   "id": "32a6ac74-d78b-43dd-b3d6-28f98583bff1",
   "metadata": {},
   "source": [
    "make별로 city08을 비교"
   ]
  },
  {
   "cell_type": "code",
   "execution_count": 43,
   "id": "cc11a939-e10f-44e6-8b1c-dfdb683f11cc",
   "metadata": {},
   "outputs": [
    {
     "data": {
      "text/plain": [
       "Chevrolet                        4159\n",
       "Ford                             3508\n",
       "Dodge                            2632\n",
       "GMC                              2599\n",
       "Toyota                           2189\n",
       "                                 ... \n",
       "Panos                               1\n",
       "London Taxi                         1\n",
       "ASC Incorporated                    1\n",
       "Fisker                              1\n",
       "Import Foreign Auto Sales Inc       1\n",
       "Name: make, Length: 139, dtype: int64"
      ]
     },
     "execution_count": 43,
     "metadata": {},
     "output_type": "execute_result"
    }
   ],
   "source": [
    "fueleco.make.value_counts()"
   ]
  },
  {
   "cell_type": "code",
   "execution_count": 44,
   "id": "c99bb6a1-2536-4c68-a848-e0e4b6bdff5e",
   "metadata": {},
   "outputs": [
    {
     "data": {
      "text/html": [
       "<div>\n",
       "<style scoped>\n",
       "    .dataframe tbody tr th:only-of-type {\n",
       "        vertical-align: middle;\n",
       "    }\n",
       "\n",
       "    .dataframe tbody tr th {\n",
       "        vertical-align: top;\n",
       "    }\n",
       "\n",
       "    .dataframe thead th {\n",
       "        text-align: right;\n",
       "    }\n",
       "</style>\n",
       "<table border=\"1\" class=\"dataframe\">\n",
       "  <thead>\n",
       "    <tr style=\"text-align: right;\">\n",
       "      <th></th>\n",
       "      <th>mean</th>\n",
       "      <th>std</th>\n",
       "      <th>min</th>\n",
       "      <th>max</th>\n",
       "    </tr>\n",
       "    <tr>\n",
       "      <th>make</th>\n",
       "      <th></th>\n",
       "      <th></th>\n",
       "      <th></th>\n",
       "      <th></th>\n",
       "    </tr>\n",
       "  </thead>\n",
       "  <tbody>\n",
       "    <tr>\n",
       "      <th>Chevrolet</th>\n",
       "      <td>22.826641</td>\n",
       "      <td>7.187250</td>\n",
       "      <td>10</td>\n",
       "      <td>110</td>\n",
       "    </tr>\n",
       "    <tr>\n",
       "      <th>Dodge</th>\n",
       "      <td>20.852204</td>\n",
       "      <td>5.783090</td>\n",
       "      <td>10</td>\n",
       "      <td>39</td>\n",
       "    </tr>\n",
       "    <tr>\n",
       "      <th>Ford</th>\n",
       "      <td>22.706956</td>\n",
       "      <td>7.566505</td>\n",
       "      <td>10</td>\n",
       "      <td>99</td>\n",
       "    </tr>\n",
       "    <tr>\n",
       "      <th>Toyota</th>\n",
       "      <td>25.953860</td>\n",
       "      <td>7.632748</td>\n",
       "      <td>10</td>\n",
       "      <td>74</td>\n",
       "    </tr>\n",
       "  </tbody>\n",
       "</table>\n",
       "</div>"
      ],
      "text/plain": [
       "                mean       std  min  max\n",
       "make                                    \n",
       "Chevrolet  22.826641  7.187250   10  110\n",
       "Dodge      20.852204  5.783090   10   39\n",
       "Ford       22.706956  7.566505   10   99\n",
       "Toyota     25.953860  7.632748   10   74"
      ]
     },
     "execution_count": 44,
     "metadata": {},
     "output_type": "execute_result"
    }
   ],
   "source": [
    "mask = fueleco.make.isin(['Chevrolet', 'Ford', 'Dodge', 'Toyota'])\n",
    "\n",
    "fueleco[mask].groupby('make').highway08.agg(['mean', 'std', 'min', 'max']) #agg로 집계함수를 넘겨줄 수 있음"
   ]
  },
  {
   "cell_type": "markdown",
   "id": "326d9f6a-2c2b-4d8c-888c-47305e203b24",
   "metadata": {},
   "source": [
    "위 결과를 시각화"
   ]
  },
  {
   "cell_type": "code",
   "execution_count": 45,
   "id": "3a39b7f9-6ef3-4f84-810b-f3621cd816bd",
   "metadata": {
    "tags": []
   },
   "outputs": [
    {
     "data": {
      "text/plain": [
       "<seaborn.axisgrid.FacetGrid at 0x1df5b7ae880>"
      ]
     },
     "execution_count": 45,
     "metadata": {},
     "output_type": "execute_result"
    },
    {
     "data": {
      "image/png": "[encoded data removed]",
      "text/plain": [
       "<Figure size 360x360 with 1 Axes>"
      ]
     },
     "metadata": {
      "needs_background": "light"
     },
     "output_type": "display_data"
    }
   ],
   "source": [
    "sns.catplot(x='make', y='highway08', data=fueleco[mask], kind='box')"
   ]
  },
  {
   "cell_type": "markdown",
   "id": "ed91fbe9-072d-485e-b242-33025b80f1d6",
   "metadata": {},
   "source": [
    "boxplot을 사용\n",
    "\n",
    "위의 그림은 변수를 그룹별로 비교하기 쉽다는 장점이 있지만 각 그룹별 샘플 사이즈는 고려하지 않는다는 단점이 있다."
   ]
  },
  {
   "cell_type": "code",
   "execution_count": 46,
   "id": "36135df5-5db5-4188-8f73-175633a643fc",
   "metadata": {},
   "outputs": [
    {
     "data": {
      "text/plain": [
       "make\n",
       "Chevrolet    4159\n",
       "Dodge        2632\n",
       "Ford         3508\n",
       "Toyota       2189\n",
       "Name: highway08, dtype: int64"
      ]
     },
     "execution_count": 46,
     "metadata": {},
     "output_type": "execute_result"
    }
   ],
   "source": [
    "fueleco[mask].groupby('make').highway08.count()"
   ]
  },
  {
   "cell_type": "code",
   "execution_count": 47,
   "id": "c098e72b-ebed-456b-8fbf-af4f9c02f781",
   "metadata": {},
   "outputs": [
    {
     "name": "stderr",
     "output_type": "stream",
     "text": [
      "C:\\Users\\USER\\anaconda3\\lib\\site-packages\\seaborn\\categorical.py:1296: UserWarning: 52.7% of the points cannot be placed; you may want to decrease the size of the markers or use stripplot.\n",
      "  warnings.warn(msg, UserWarning)\n",
      "C:\\Users\\USER\\anaconda3\\lib\\site-packages\\seaborn\\categorical.py:1296: UserWarning: 38.7% of the points cannot be placed; you may want to decrease the size of the markers or use stripplot.\n",
      "  warnings.warn(msg, UserWarning)\n",
      "C:\\Users\\USER\\anaconda3\\lib\\site-packages\\seaborn\\categorical.py:1296: UserWarning: 65.7% of the points cannot be placed; you may want to decrease the size of the markers or use stripplot.\n",
      "  warnings.warn(msg, UserWarning)\n",
      "C:\\Users\\USER\\anaconda3\\lib\\site-packages\\seaborn\\categorical.py:1296: UserWarning: 58.8% of the points cannot be placed; you may want to decrease the size of the markers or use stripplot.\n",
      "  warnings.warn(msg, UserWarning)\n"
     ]
    },
    {
     "data": {
      "text/plain": [
       "<AxesSubplot:xlabel='make', ylabel='highway08'>"
      ]
     },
     "execution_count": 47,
     "metadata": {},
     "output_type": "execute_result"
    },
    {
     "data": {
      "image/png": "[encoded data removed]",
      "text/plain": [
       "<Figure size 360x360 with 1 Axes>"
      ]
     },
     "metadata": {
      "needs_background": "light"
     },
     "output_type": "display_data"
    }
   ],
   "source": [
    "# 위의 boxplot 에서 이 정보를 넣기 위해 swamplot 을 추가하는 방법\n",
    "\n",
    "g = sns.catplot(x='make', y='highway08', data=fueleco[mask], kind='box')\n",
    "sns.swarmplot(x='make', y='highway08', data=fueleco[mask], color='k', size=1, ax=g.ax, alpha=.5)"
   ]
  },
  {
   "cell_type": "code",
   "execution_count": 48,
   "id": "05680536-0a26-43e8-b7fd-8706801a7783",
   "metadata": {},
   "outputs": [
    {
     "data": {
      "text/plain": [
       "<seaborn.axisgrid.FacetGrid at 0x1df5be99fd0>"
      ]
     },
     "execution_count": 48,
     "metadata": {},
     "output_type": "execute_result"
    },
    {
     "data": {
      "image/png": "[encoded data removed]",
      "text/plain": [
       "<Figure size 720x720 with 4 Axes>"
      ]
     },
     "metadata": {
      "needs_background": "light"
     },
     "output_type": "display_data"
    }
   ],
   "source": [
    "# boxplot 을 조금 더 활용하면 더 많은 그래프를 손쉽게 그릴 수 있다.\n",
    "# col 을 설정하면 연도별로 그려짐\n",
    "\n",
    "sns.catplot(\n",
    "    x='make',\n",
    "    y='highway08',\n",
    "    data=fueleco[mask],\n",
    "    kind='box',\n",
    "    col='year',\n",
    "    col_order=[2012, 2014, 2016, 2018], #연도의 증장 순서 결정\n",
    "    col_wrap=2 # 몇 줄로 만들 것인지 결정\n",
    ")"
   ]
  },
  {
   "cell_type": "code",
   "execution_count": 49,
   "id": "af5b955c-2505-43bd-8b0f-c0f3435d3388",
   "metadata": {},
   "outputs": [
    {
     "data": {
      "text/plain": [
       "<seaborn.axisgrid.FacetGrid at 0x1df5e7875e0>"
      ]
     },
     "execution_count": 49,
     "metadata": {},
     "output_type": "execute_result"
    },
    {
     "data": {
      "image/png": "[encoded data removed]",
      "text/plain": [
       "<Figure size 1501.5x720 with 1 Axes>"
      ]
     },
     "metadata": {
      "needs_background": "light"
     },
     "output_type": "display_data"
    }
   ],
   "source": [
    "# 하나의 그래프에 색을 추가해서 그리는 방법\n",
    "# hue를 사용\n",
    "\n",
    "sns.catplot(\n",
    "    x='make',\n",
    "    y='highway08',\n",
    "    data=fueleco[mask],\n",
    "    kind='box',\n",
    "    hue='year',\n",
    "    hue_order=[2012, 2014, 2016, 2018],\n",
    "    height=10, aspect=2 # 크기조절하는 부분\n",
    ")"
   ]
  },
  {
   "cell_type": "markdown",
   "id": "e1c12cc1-aad5-4441-bb0a-a88daab4ae53",
   "metadata": {
    "tags": []
   },
   "source": [
    "# 수치형 컬럼들 중 몇가지를 선택해서 corr에 히트맵을 그려보기"
   ]
  },
  {
   "cell_type": "markdown",
   "id": "e3038933-6bf9-48df-8756-3a5eab86e2ff",
   "metadata": {},
   "source": [
    "일반적으로 상관계수라 하면 선형 관계를 가정하는 Pearson's Correlation을 의미\n",
    "\n",
    "두 개의 열(혹은 변수)이 선형적으로 얼마나 같이(혹은 다르게) 변하는지를 보는 것\n",
    "\n",
    "값은 -1 ~ 1 사이이고, -1일때 정반대로, 1일때 정확하게 동일하게 움직인다."
   ]
  },
  {
   "cell_type": "markdown",
   "id": "c5af97cf-4403-425a-9c31-e0cfa66add66",
   "metadata": {},
   "source": [
    "comb08, city08, highway08, cylinders, displ의 연속열 비교"
   ]
  },
  {
   "cell_type": "code",
   "execution_count": 50,
   "id": "0279d95d-3aa5-4415-9c33-9b7aa1138e17",
   "metadata": {},
   "outputs": [
    {
     "data": {
      "text/plain": [
       "72.87615362639814"
      ]
     },
     "execution_count": 50,
     "metadata": {},
     "output_type": "execute_result"
    }
   ],
   "source": [
    "# comb08과 city08 의 관계 확인\n",
    "fueleco.comb08.cov(fueleco.city08)"
   ]
  },
  {
   "cell_type": "code",
   "execution_count": 51,
   "id": "b6690c2f-fbc7-4ac0-9220-ac53c5fa6b6d",
   "metadata": {},
   "outputs": [
    {
     "data": {
      "text/plain": [
       "68.034962451601"
      ]
     },
     "execution_count": 51,
     "metadata": {},
     "output_type": "execute_result"
    }
   ],
   "source": [
    "# comb08과 highway08 의 관계 확인\n",
    "fueleco.comb08.cov(fueleco.highway08)"
   ]
  },
  {
   "cell_type": "code",
   "execution_count": 52,
   "id": "360763da-fdc5-429d-91f4-69d2a4a1e709",
   "metadata": {},
   "outputs": [
    {
     "data": {
      "text/plain": [
       "-5.338439888815593"
      ]
     },
     "execution_count": 52,
     "metadata": {},
     "output_type": "execute_result"
    }
   ],
   "source": [
    "# comb08과 displ 의 관계 확인\n",
    "fueleco.comb08.cov(fueleco.displ)"
   ]
  },
  {
   "cell_type": "code",
   "execution_count": 53,
   "id": "29829f4a-f488-4e7b-9d73-eb7ff88a91e9",
   "metadata": {},
   "outputs": [
    {
     "data": {
      "text/plain": [
       "-6.497222785115751"
      ]
     },
     "execution_count": 53,
     "metadata": {},
     "output_type": "execute_result"
    }
   ],
   "source": [
    "# comb08과 cylinders 의 관계 확인\n",
    "fueleco.comb08.cov(fueleco.cylinders)"
   ]
  },
  {
   "cell_type": "code",
   "execution_count": 54,
   "id": "eb96c6cb-d031-4121-8ff4-d71569a63b13",
   "metadata": {},
   "outputs": [
    {
     "data": {
      "text/plain": [
       "0.9913332735111903"
      ]
     },
     "execution_count": 54,
     "metadata": {},
     "output_type": "execute_result"
    }
   ],
   "source": [
    "# 상관계수는 corr 로 구한다.\n",
    "fueleco.comb08.corr(fueleco.city08)"
   ]
  },
  {
   "cell_type": "code",
   "execution_count": 55,
   "id": "423f4d02-6edc-4d75-86fd-5fcda90b6542",
   "metadata": {},
   "outputs": [
    {
     "data": {
      "text/html": [
       "<div>\n",
       "<style scoped>\n",
       "    .dataframe tbody tr th:only-of-type {\n",
       "        vertical-align: middle;\n",
       "    }\n",
       "\n",
       "    .dataframe tbody tr th {\n",
       "        vertical-align: top;\n",
       "    }\n",
       "\n",
       "    .dataframe thead th {\n",
       "        text-align: right;\n",
       "    }\n",
       "</style>\n",
       "<table border=\"1\" class=\"dataframe\">\n",
       "  <thead>\n",
       "    <tr style=\"text-align: right;\">\n",
       "      <th></th>\n",
       "      <th>comb08</th>\n",
       "      <th>city08</th>\n",
       "      <th>highway08</th>\n",
       "      <th>cylinders</th>\n",
       "      <th>displ</th>\n",
       "    </tr>\n",
       "  </thead>\n",
       "  <tbody>\n",
       "    <tr>\n",
       "      <th>comb08</th>\n",
       "      <td>1.000000</td>\n",
       "      <td>0.991333</td>\n",
       "      <td>0.977566</td>\n",
       "      <td>-0.685856</td>\n",
       "      <td>-0.730505</td>\n",
       "    </tr>\n",
       "    <tr>\n",
       "      <th>city08</th>\n",
       "      <td>0.991333</td>\n",
       "      <td>1.000000</td>\n",
       "      <td>0.945944</td>\n",
       "      <td>-0.683170</td>\n",
       "      <td>-0.716592</td>\n",
       "    </tr>\n",
       "    <tr>\n",
       "      <th>highway08</th>\n",
       "      <td>0.977566</td>\n",
       "      <td>0.945944</td>\n",
       "      <td>1.000000</td>\n",
       "      <td>-0.647252</td>\n",
       "      <td>-0.708367</td>\n",
       "    </tr>\n",
       "    <tr>\n",
       "      <th>cylinders</th>\n",
       "      <td>-0.685856</td>\n",
       "      <td>-0.683170</td>\n",
       "      <td>-0.647252</td>\n",
       "      <td>1.000000</td>\n",
       "      <td>0.904771</td>\n",
       "    </tr>\n",
       "    <tr>\n",
       "      <th>displ</th>\n",
       "      <td>-0.730505</td>\n",
       "      <td>-0.716592</td>\n",
       "      <td>-0.708367</td>\n",
       "      <td>0.904771</td>\n",
       "      <td>1.000000</td>\n",
       "    </tr>\n",
       "  </tbody>\n",
       "</table>\n",
       "</div>"
      ],
      "text/plain": [
       "             comb08    city08  highway08  cylinders     displ\n",
       "comb08     1.000000  0.991333   0.977566  -0.685856 -0.730505\n",
       "city08     0.991333  1.000000   0.945944  -0.683170 -0.716592\n",
       "highway08  0.977566  0.945944   1.000000  -0.647252 -0.708367\n",
       "cylinders -0.685856 -0.683170  -0.647252   1.000000  0.904771\n",
       "displ     -0.730505 -0.716592  -0.708367   0.904771  1.000000"
      ]
     },
     "execution_count": 55,
     "metadata": {},
     "output_type": "execute_result"
    }
   ],
   "source": [
    "fueleco[['comb08', 'city08', 'highway08', 'cylinders', 'displ']].corr()"
   ]
  },
  {
   "cell_type": "code",
   "execution_count": 57,
   "id": "9ee24705-e8b9-4c60-a8dd-628314bfe3a8",
   "metadata": {},
   "outputs": [
    {
     "data": {
      "text/plain": [
       "array([[ True,  True,  True,  True,  True],\n",
       "       [False,  True,  True,  True,  True],\n",
       "       [False, False,  True,  True,  True],\n",
       "       [False, False, False,  True,  True],\n",
       "       [False, False, False, False,  True]])"
      ]
     },
     "execution_count": 57,
     "metadata": {},
     "output_type": "execute_result"
    }
   ],
   "source": [
    "mask = np.zeros_like(corr, dtype=bool)\n",
    "mask[np.triu_indices_from(mask)] = True\n",
    "mask"
   ]
  },
  {
   "cell_type": "code",
   "execution_count": 56,
   "id": "8098626e-033f-4265-b9bf-347717129495",
   "metadata": {},
   "outputs": [
    {
     "data": {
      "text/plain": [
       "<AxesSubplot:>"
      ]
     },
     "execution_count": 56,
     "metadata": {},
     "output_type": "execute_result"
    },
    {
     "data": {
      "image/png": "[encoded data removed]",
      "text/plain": [
       "<Figure size 576x576 with 2 Axes>"
      ]
     },
     "metadata": {
      "needs_background": "light"
     },
     "output_type": "display_data"
    }
   ],
   "source": [
    "# 여러 변수의 corr를 한 번에 그리기 위한 작업\n",
    "\n",
    "fig, ax = plt.subplots(figsize=(8, 8))\n",
    "corr = fueleco[['comb08', 'city08', 'highway08', 'cylinders', 'displ']].corr()\n",
    "\n",
    "mask = np.zeros_like(corr, dtype=bool)\n",
    "mask[np.triu_indices_from(mask)] = True\n",
    "sns.heatmap(\n",
    "    corr,\n",
    "    mask=mask,\n",
    "    fmt='.2f', #소수점 2번자리 까지 표현\n",
    "    annot=True, #데이터 표현\n",
    "    ax=ax,\n",
    "    cmap='RdBu', #색결정\n",
    "    vmin=-1, \n",
    "    vmax=1, \n",
    "    square=True #정사각형으로 표현\n",
    ")"
   ]
  },
  {
   "cell_type": "code",
   "execution_count": null,
   "id": "1e31a9f8-f158-41bc-a263-f6278aec3a75",
   "metadata": {},
   "outputs": [],
   "source": []
  }
 ],
 "metadata": {
  "kernelspec": {
   "display_name": "Python 3 (ipykernel)",
   "language": "python",
   "name": "python3"
  },
  "language_info": {
   "codemirror_mode": {
    "name": "ipython",
    "version": 3
   },
   "file_extension": ".py",
   "mimetype": "text/x-python",
   "name": "python",
   "nbconvert_exporter": "python",
   "pygments_lexer": "ipython3",
   "version": "3.9.7"
  }
 },
 "nbformat": 4,
 "nbformat_minor": 5
}
